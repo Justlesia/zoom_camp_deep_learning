{
 "cells": [
  {
   "cell_type": "code",
   "execution_count": 3,
   "id": "9136acd1-aaec-42f8-b80b-ff9035e40581",
   "metadata": {
    "execution": {
     "iopub.execute_input": "2023-11-19T11:35:09.560004Z",
     "iopub.status.busy": "2023-11-19T11:35:09.559722Z",
     "iopub.status.idle": "2023-11-19T11:35:09.564254Z",
     "shell.execute_reply": "2023-11-19T11:35:09.563617Z",
     "shell.execute_reply.started": "2023-11-19T11:35:09.559984Z"
    },
    "tags": []
   },
   "outputs": [],
   "source": [
    "import numpy as np\n",
    "import matplotlib as plt\n",
    "\n",
    "%matplotlib inline"
   ]
  },
  {
   "cell_type": "code",
   "execution_count": 4,
   "id": "98e6c479-0530-45af-a252-435cca8aeca3",
   "metadata": {
    "execution": {
     "iopub.execute_input": "2023-11-19T11:35:10.163806Z",
     "iopub.status.busy": "2023-11-19T11:35:10.163447Z",
     "iopub.status.idle": "2023-11-19T11:35:15.633400Z",
     "shell.execute_reply": "2023-11-19T11:35:15.632797Z",
     "shell.execute_reply.started": "2023-11-19T11:35:10.163785Z"
    },
    "tags": []
   },
   "outputs": [],
   "source": [
    "import tensorflow as tf\n",
    "from tensorflow import keras"
   ]
  },
  {
   "cell_type": "code",
   "execution_count": 5,
   "id": "fbc07f3f-6aad-4ecd-85b5-7a558b494a77",
   "metadata": {
    "execution": {
     "iopub.execute_input": "2023-11-19T11:35:15.635683Z",
     "iopub.status.busy": "2023-11-19T11:35:15.634906Z",
     "iopub.status.idle": "2023-11-19T11:35:15.640230Z",
     "shell.execute_reply": "2023-11-19T11:35:15.639684Z",
     "shell.execute_reply.started": "2023-11-19T11:35:15.635647Z"
    },
    "tags": []
   },
   "outputs": [],
   "source": [
    "from tensorflow.keras.preprocessing.image import load_img"
   ]
  },
  {
   "cell_type": "code",
   "execution_count": 6,
   "id": "a60d903c-7229-42ff-b9d1-2d0c74d009de",
   "metadata": {
    "execution": {
     "iopub.execute_input": "2023-11-19T11:35:15.642663Z",
     "iopub.status.busy": "2023-11-19T11:35:15.642208Z",
     "iopub.status.idle": "2023-11-19T11:35:15.683211Z",
     "shell.execute_reply": "2023-11-19T11:35:15.682702Z",
     "shell.execute_reply.started": "2023-11-19T11:35:15.642632Z"
    },
    "tags": []
   },
   "outputs": [],
   "source": [
    "path = './data/train/bee/'\n",
    "name = '20997149292_3b5fd09795_m.jpg'\n",
    "fullname = f'{path}/{name}'\n",
    "\n",
    "\n",
    "img = load_img(fullname, target_size = (299,299))\n",
    "\n",
    "\n"
   ]
  },
  {
   "cell_type": "code",
   "execution_count": 7,
   "id": "9b7d57ed-54e0-4934-8514-f0225e4cebe3",
   "metadata": {
    "execution": {
     "iopub.execute_input": "2023-11-19T11:35:15.684749Z",
     "iopub.status.busy": "2023-11-19T11:35:15.684478Z",
     "iopub.status.idle": "2023-11-19T11:35:15.688086Z",
     "shell.execute_reply": "2023-11-19T11:35:15.687365Z",
     "shell.execute_reply.started": "2023-11-19T11:35:15.684730Z"
    },
    "tags": []
   },
   "outputs": [],
   "source": [
    "x= np.array(img)"
   ]
  },
  {
   "cell_type": "code",
   "execution_count": 8,
   "id": "20c495fc-7eaa-409e-a672-7092d857cd83",
   "metadata": {
    "execution": {
     "iopub.execute_input": "2023-11-19T11:35:15.689690Z",
     "iopub.status.busy": "2023-11-19T11:35:15.689110Z",
     "iopub.status.idle": "2023-11-19T11:35:15.693903Z",
     "shell.execute_reply": "2023-11-19T11:35:15.693367Z",
     "shell.execute_reply.started": "2023-11-19T11:35:15.689659Z"
    },
    "tags": []
   },
   "outputs": [],
   "source": [
    "from tensorflow.keras.applications.xception import Xception\n",
    "from tensorflow.keras.applications.xception import preprocess_input\n",
    "from tensorflow.keras.applications.xception import decode_predictions\n",
    "\n"
   ]
  },
  {
   "cell_type": "code",
   "execution_count": 9,
   "id": "59ff044a-2508-49a4-a7c7-72dd5cf3ab87",
   "metadata": {
    "execution": {
     "iopub.execute_input": "2023-11-19T11:35:15.695360Z",
     "iopub.status.busy": "2023-11-19T11:35:15.694783Z",
     "iopub.status.idle": "2023-11-19T11:35:17.939795Z",
     "shell.execute_reply": "2023-11-19T11:35:17.939081Z",
     "shell.execute_reply.started": "2023-11-19T11:35:15.695330Z"
    },
    "tags": []
   },
   "outputs": [
    {
     "name": "stderr",
     "output_type": "stream",
     "text": [
      "2023-11-19 11:35:15.783540: I tensorflow/stream_executor/cuda/cuda_gpu_executor.cc:975] successful NUMA node read from SysFS had negative value (-1), but there must be at least one NUMA node, so returning NUMA node zero\n",
      "2023-11-19 11:35:15.789322: I tensorflow/stream_executor/cuda/cuda_gpu_executor.cc:975] successful NUMA node read from SysFS had negative value (-1), but there must be at least one NUMA node, so returning NUMA node zero\n",
      "2023-11-19 11:35:15.789883: I tensorflow/stream_executor/cuda/cuda_gpu_executor.cc:975] successful NUMA node read from SysFS had negative value (-1), but there must be at least one NUMA node, so returning NUMA node zero\n",
      "2023-11-19 11:35:15.790732: I tensorflow/core/platform/cpu_feature_guard.cc:193] This TensorFlow binary is optimized with oneAPI Deep Neural Network Library (oneDNN) to use the following CPU instructions in performance-critical operations:  AVX2 AVX512F AVX512_VNNI FMA\n",
      "To enable them in other operations, rebuild TensorFlow with the appropriate compiler flags.\n",
      "2023-11-19 11:35:15.791020: I tensorflow/stream_executor/cuda/cuda_gpu_executor.cc:975] successful NUMA node read from SysFS had negative value (-1), but there must be at least one NUMA node, so returning NUMA node zero\n",
      "2023-11-19 11:35:15.791586: I tensorflow/stream_executor/cuda/cuda_gpu_executor.cc:975] successful NUMA node read from SysFS had negative value (-1), but there must be at least one NUMA node, so returning NUMA node zero\n",
      "2023-11-19 11:35:15.792101: I tensorflow/stream_executor/cuda/cuda_gpu_executor.cc:975] successful NUMA node read from SysFS had negative value (-1), but there must be at least one NUMA node, so returning NUMA node zero\n",
      "2023-11-19 11:35:16.407726: I tensorflow/stream_executor/cuda/cuda_gpu_executor.cc:975] successful NUMA node read from SysFS had negative value (-1), but there must be at least one NUMA node, so returning NUMA node zero\n",
      "2023-11-19 11:35:16.408372: I tensorflow/stream_executor/cuda/cuda_gpu_executor.cc:975] successful NUMA node read from SysFS had negative value (-1), but there must be at least one NUMA node, so returning NUMA node zero\n",
      "2023-11-19 11:35:16.408909: I tensorflow/stream_executor/cuda/cuda_gpu_executor.cc:975] successful NUMA node read from SysFS had negative value (-1), but there must be at least one NUMA node, so returning NUMA node zero\n",
      "2023-11-19 11:35:16.409397: I tensorflow/core/common_runtime/gpu/gpu_device.cc:1532] Created device /job:localhost/replica:0/task:0/device:GPU:0 with 13795 MB memory:  -> device: 0, name: Tesla T4, pci bus id: 0000:00:1e.0, compute capability: 7.5\n"
     ]
    }
   ],
   "source": [
    "model = Xception(weights= 'imagenet', input_shape = (299,299,3))"
   ]
  },
  {
   "cell_type": "code",
   "execution_count": 10,
   "id": "a671c1fe-2d7f-4b35-9211-193dd61d610e",
   "metadata": {
    "execution": {
     "iopub.execute_input": "2023-11-19T11:35:17.941105Z",
     "iopub.status.busy": "2023-11-19T11:35:17.940779Z",
     "iopub.status.idle": "2023-11-19T11:35:17.944559Z",
     "shell.execute_reply": "2023-11-19T11:35:17.943831Z",
     "shell.execute_reply.started": "2023-11-19T11:35:17.941084Z"
    },
    "tags": []
   },
   "outputs": [],
   "source": [
    "X = np.array([x])"
   ]
  },
  {
   "cell_type": "code",
   "execution_count": 11,
   "id": "20731cd7-4745-4d4c-96d7-acf8ce70e4ff",
   "metadata": {
    "execution": {
     "iopub.execute_input": "2023-11-19T11:35:17.946206Z",
     "iopub.status.busy": "2023-11-19T11:35:17.945648Z",
     "iopub.status.idle": "2023-11-19T11:35:17.949960Z",
     "shell.execute_reply": "2023-11-19T11:35:17.949308Z",
     "shell.execute_reply.started": "2023-11-19T11:35:17.946175Z"
    },
    "tags": []
   },
   "outputs": [],
   "source": [
    "X= preprocess_input(X)"
   ]
  },
  {
   "cell_type": "code",
   "execution_count": 12,
   "id": "dde4e401-1da4-4148-a0ec-fc0ed743bc53",
   "metadata": {
    "execution": {
     "iopub.execute_input": "2023-11-19T11:35:17.951416Z",
     "iopub.status.busy": "2023-11-19T11:35:17.950889Z",
     "iopub.status.idle": "2023-11-19T11:35:20.633278Z",
     "shell.execute_reply": "2023-11-19T11:35:20.632622Z",
     "shell.execute_reply.started": "2023-11-19T11:35:17.951393Z"
    },
    "tags": []
   },
   "outputs": [
    {
     "name": "stderr",
     "output_type": "stream",
     "text": [
      "2023-11-19 11:35:19.327011: I tensorflow/stream_executor/cuda/cuda_dnn.cc:384] Loaded cuDNN version 8100\n",
      "2023-11-19 11:35:19.963574: I tensorflow/core/platform/default/subprocess.cc:304] Start cannot spawn child process: No such file or directory\n",
      "2023-11-19 11:35:19.964071: I tensorflow/core/platform/default/subprocess.cc:304] Start cannot spawn child process: No such file or directory\n",
      "2023-11-19 11:35:19.964124: W tensorflow/stream_executor/gpu/asm_compiler.cc:80] Couldn't get ptxas version string: INTERNAL: Couldn't invoke ptxas --version\n",
      "2023-11-19 11:35:19.964774: I tensorflow/core/platform/default/subprocess.cc:304] Start cannot spawn child process: No such file or directory\n",
      "2023-11-19 11:35:19.964872: W tensorflow/stream_executor/gpu/redzone_allocator.cc:314] INTERNAL: Failed to launch ptxas\n",
      "Relying on driver to perform ptx compilation. \n",
      "Modify $PATH to customize ptxas location.\n",
      "This message will be only logged once.\n"
     ]
    },
    {
     "name": "stdout",
     "output_type": "stream",
     "text": [
      "1/1 [==============================] - 3s 3s/step\n"
     ]
    }
   ],
   "source": [
    "pred = model.predict(X)"
   ]
  },
  {
   "cell_type": "code",
   "execution_count": 13,
   "id": "e293c3c0-17d7-44d7-9c61-902a2acf65ec",
   "metadata": {
    "execution": {
     "iopub.execute_input": "2023-11-19T11:35:20.635615Z",
     "iopub.status.busy": "2023-11-19T11:35:20.635316Z",
     "iopub.status.idle": "2023-11-19T11:35:20.643479Z",
     "shell.execute_reply": "2023-11-19T11:35:20.642754Z",
     "shell.execute_reply.started": "2023-11-19T11:35:20.635594Z"
    },
    "tags": []
   },
   "outputs": [
    {
     "data": {
      "text/plain": [
       "[[('n02206856', 'bee', 0.9817046),\n",
       "  ('n02190166', 'fly', 0.006096769),\n",
       "  ('n07730033', 'cardoon', 0.0020073904),\n",
       "  ('n11879895', 'rapeseed', 0.00046862604),\n",
       "  ('n02727426', 'apiary', 0.00039665506)]]"
      ]
     },
     "execution_count": 13,
     "metadata": {},
     "output_type": "execute_result"
    }
   ],
   "source": [
    "decode_predictions(pred)"
   ]
  },
  {
   "cell_type": "code",
   "execution_count": null,
   "id": "97cda019-94ef-4bf9-87e7-c59686b4d4bd",
   "metadata": {},
   "outputs": [],
   "source": []
  },
  {
   "cell_type": "code",
   "execution_count": 14,
   "id": "36fec479-6baa-4b59-8b75-cfb763950ca7",
   "metadata": {
    "execution": {
     "iopub.execute_input": "2023-11-19T11:35:20.646047Z",
     "iopub.status.busy": "2023-11-19T11:35:20.645799Z",
     "iopub.status.idle": "2023-11-19T11:35:20.649174Z",
     "shell.execute_reply": "2023-11-19T11:35:20.648486Z",
     "shell.execute_reply.started": "2023-11-19T11:35:20.646029Z"
    },
    "tags": []
   },
   "outputs": [],
   "source": [
    "from tensorflow.keras.preprocessing.image import ImageDataGenerator"
   ]
  },
  {
   "cell_type": "code",
   "execution_count": null,
   "id": "60f07fb5-fbf7-4aea-ab82-b113dba30be4",
   "metadata": {
    "tags": []
   },
   "outputs": [],
   "source": []
  },
  {
   "cell_type": "code",
   "execution_count": 15,
   "id": "f1718f51-c45c-49d3-85b9-8aed08450971",
   "metadata": {
    "execution": {
     "iopub.execute_input": "2023-11-19T11:35:20.650299Z",
     "iopub.status.busy": "2023-11-19T11:35:20.650027Z",
     "iopub.status.idle": "2023-11-19T11:35:20.769412Z",
     "shell.execute_reply": "2023-11-19T11:35:20.768823Z",
     "shell.execute_reply.started": "2023-11-19T11:35:20.650281Z"
    },
    "tags": []
   },
   "outputs": [
    {
     "name": "stdout",
     "output_type": "stream",
     "text": [
      "Found 3677 images belonging to 2 classes.\n"
     ]
    }
   ],
   "source": [
    "train_get = ImageDataGenerator(preprocessing_function = preprocess_input )\n",
    "\n",
    "train_ds = train_get.flow_from_directory('./data/train/',\n",
    "                              target_size = (150,150),\n",
    "                              batch_size = 32)"
   ]
  },
  {
   "cell_type": "code",
   "execution_count": 16,
   "id": "bfbf6266-82cc-4882-afa5-20f4f15222c1",
   "metadata": {
    "execution": {
     "iopub.execute_input": "2023-11-19T11:35:20.770429Z",
     "iopub.status.busy": "2023-11-19T11:35:20.770164Z",
     "iopub.status.idle": "2023-11-19T11:35:20.774486Z",
     "shell.execute_reply": "2023-11-19T11:35:20.773769Z",
     "shell.execute_reply.started": "2023-11-19T11:35:20.770411Z"
    },
    "tags": []
   },
   "outputs": [
    {
     "data": {
      "text/plain": [
       "{'bee': 0, 'wasp': 1}"
      ]
     },
     "execution_count": 16,
     "metadata": {},
     "output_type": "execute_result"
    }
   ],
   "source": [
    "train_ds.class_indices"
   ]
  },
  {
   "cell_type": "code",
   "execution_count": 17,
   "id": "24439374-d856-4b1b-a292-8772e22f7c30",
   "metadata": {
    "execution": {
     "iopub.execute_input": "2023-11-19T11:35:20.775707Z",
     "iopub.status.busy": "2023-11-19T11:35:20.775361Z",
     "iopub.status.idle": "2023-11-19T11:35:20.856142Z",
     "shell.execute_reply": "2023-11-19T11:35:20.855623Z",
     "shell.execute_reply.started": "2023-11-19T11:35:20.775676Z"
    },
    "tags": []
   },
   "outputs": [],
   "source": [
    "X, y = next(train_ds)"
   ]
  },
  {
   "cell_type": "code",
   "execution_count": 18,
   "id": "e79ea625-2ac1-4f3d-8dbf-d1cafee28b49",
   "metadata": {
    "execution": {
     "iopub.execute_input": "2023-11-19T11:35:20.857127Z",
     "iopub.status.busy": "2023-11-19T11:35:20.856856Z",
     "iopub.status.idle": "2023-11-19T11:35:20.861284Z",
     "shell.execute_reply": "2023-11-19T11:35:20.860576Z",
     "shell.execute_reply.started": "2023-11-19T11:35:20.857084Z"
    },
    "tags": []
   },
   "outputs": [
    {
     "data": {
      "text/plain": [
       "(32, 150, 150, 3)"
      ]
     },
     "execution_count": 18,
     "metadata": {},
     "output_type": "execute_result"
    }
   ],
   "source": [
    "X.shape"
   ]
  },
  {
   "cell_type": "code",
   "execution_count": 19,
   "id": "b75c232e-54e5-4cfe-a2ef-45f289b9e105",
   "metadata": {
    "execution": {
     "iopub.execute_input": "2023-11-19T11:35:20.862368Z",
     "iopub.status.busy": "2023-11-19T11:35:20.862072Z",
     "iopub.status.idle": "2023-11-19T11:35:20.890955Z",
     "shell.execute_reply": "2023-11-19T11:35:20.890374Z",
     "shell.execute_reply.started": "2023-11-19T11:35:20.862343Z"
    },
    "tags": []
   },
   "outputs": [
    {
     "name": "stdout",
     "output_type": "stream",
     "text": [
      "Found 918 images belonging to 2 classes.\n"
     ]
    }
   ],
   "source": [
    "test_get = ImageDataGenerator(preprocessing_function = preprocess_input )\n",
    "\n",
    "test_ds = train_get.flow_from_directory('./data/test/',\n",
    "                              target_size = (150,150),\n",
    "                              batch_size = 32, shuffle = False)"
   ]
  },
  {
   "cell_type": "code",
   "execution_count": 84,
   "id": "8b8a24b3-19fa-46c6-81d6-3d0eeefa3385",
   "metadata": {
    "execution": {
     "iopub.execute_input": "2023-11-19T12:48:21.513612Z",
     "iopub.status.busy": "2023-11-19T12:48:21.513217Z",
     "iopub.status.idle": "2023-11-19T12:48:21.517282Z",
     "shell.execute_reply": "2023-11-19T12:48:21.516482Z",
     "shell.execute_reply.started": "2023-11-19T12:48:21.513589Z"
    },
    "tags": []
   },
   "outputs": [],
   "source": [
    "from tensorflow.keras import datasets, layers, models\n",
    "import matplotlib.pyplot as plt\n",
    "\n",
    "from tensorflow.keras.models import Sequential"
   ]
  },
  {
   "cell_type": "code",
   "execution_count": null,
   "id": "6b170157-576a-4e6e-acc9-7c826e39ee2c",
   "metadata": {
    "execution": {
     "iopub.execute_input": "2023-11-19T11:35:20.892522Z",
     "iopub.status.busy": "2023-11-19T11:35:20.891861Z",
     "iopub.status.idle": "2023-11-19T11:35:22.382077Z",
     "shell.execute_reply": "2023-11-19T11:35:22.381485Z",
     "shell.execute_reply.started": "2023-11-19T11:35:20.892492Z"
    },
    "tags": []
   },
   "outputs": [],
   "source": [
    "base_model = Sequential(weights = 'imagenet', \n",
    "                      include_top = False, \n",
    "                     input_shape = (150,150,3)\n",
    "                     )\n",
    "\n",
    "\n",
    "base_model.trainable = False\n",
    "\n",
    "\n",
    "inputs = keras.Input(shape=(150,150,3))\n",
    "\n",
    "base = base_model(inputs, training=False)\n",
    "\n",
    "vectors = keras.layers.GlobalAveragePooling2D()(base)\n",
    "\n",
    "outputs = keras.layers.Dense(2)(vectors)\n",
    "\n",
    "model =keras.Model(inputs, outputs)\n"
   ]
  },
  {
   "cell_type": "code",
   "execution_count": 21,
   "id": "5d34812c-4bf6-41da-939e-d59f6d6ec371",
   "metadata": {
    "execution": {
     "iopub.execute_input": "2023-11-19T11:35:22.383227Z",
     "iopub.status.busy": "2023-11-19T11:35:22.382926Z",
     "iopub.status.idle": "2023-11-19T11:35:23.801469Z",
     "shell.execute_reply": "2023-11-19T11:35:23.800841Z",
     "shell.execute_reply.started": "2023-11-19T11:35:22.383208Z"
    },
    "tags": []
   },
   "outputs": [
    {
     "name": "stdout",
     "output_type": "stream",
     "text": [
      "1/1 [==============================] - 1s 1s/step\n"
     ]
    }
   ],
   "source": [
    "preds = model.predict(X)"
   ]
  },
  {
   "cell_type": "code",
   "execution_count": 22,
   "id": "248436f1-99d0-426d-886b-21712c58c942",
   "metadata": {
    "execution": {
     "iopub.execute_input": "2023-11-19T11:35:23.802847Z",
     "iopub.status.busy": "2023-11-19T11:35:23.802409Z",
     "iopub.status.idle": "2023-11-19T11:35:23.807181Z",
     "shell.execute_reply": "2023-11-19T11:35:23.806537Z",
     "shell.execute_reply.started": "2023-11-19T11:35:23.802822Z"
    },
    "tags": []
   },
   "outputs": [
    {
     "data": {
      "text/plain": [
       "(32, 2)"
      ]
     },
     "execution_count": 22,
     "metadata": {},
     "output_type": "execute_result"
    }
   ],
   "source": [
    "preds.shape"
   ]
  },
  {
   "cell_type": "code",
   "execution_count": 23,
   "id": "8f974e84-71ee-4ff3-9485-90396b59d521",
   "metadata": {
    "execution": {
     "iopub.execute_input": "2023-11-19T11:35:23.810205Z",
     "iopub.status.busy": "2023-11-19T11:35:23.809949Z",
     "iopub.status.idle": "2023-11-19T11:35:23.815394Z",
     "shell.execute_reply": "2023-11-19T11:35:23.814817Z",
     "shell.execute_reply.started": "2023-11-19T11:35:23.810187Z"
    },
    "tags": []
   },
   "outputs": [
    {
     "data": {
      "text/plain": [
       "array([-0.0852978, -0.2805415], dtype=float32)"
      ]
     },
     "execution_count": 23,
     "metadata": {},
     "output_type": "execute_result"
    }
   ],
   "source": [
    "preds[0]"
   ]
  },
  {
   "cell_type": "code",
   "execution_count": null,
   "id": "7b8572f4-5fb8-48e1-807f-a44f8806b453",
   "metadata": {},
   "outputs": [],
   "source": []
  },
  {
   "cell_type": "code",
   "execution_count": 24,
   "id": "32b79d15-924b-4587-99a9-409888a7a888",
   "metadata": {
    "execution": {
     "iopub.execute_input": "2023-11-19T11:35:23.816439Z",
     "iopub.status.busy": "2023-11-19T11:35:23.816193Z",
     "iopub.status.idle": "2023-11-19T11:35:23.828907Z",
     "shell.execute_reply": "2023-11-19T11:35:23.828344Z",
     "shell.execute_reply.started": "2023-11-19T11:35:23.816420Z"
    },
    "tags": []
   },
   "outputs": [],
   "source": [
    "\n",
    "learning_rate = 0.01\n",
    "optimizer  = keras.optimizers.Adam(learning_rate = learning_rate)\n",
    "\n",
    "loss = keras.losses.CategoricalCrossentropy(from_logits= True)\n",
    "\n",
    "\n",
    "\n",
    "model.compile(optimizer=optimizer,\n",
    "              loss=loss,\n",
    "              metrics=['accuracy'])"
   ]
  },
  {
   "cell_type": "code",
   "execution_count": 25,
   "id": "b193713f-3478-49e4-9bdc-d09c8119dff3",
   "metadata": {
    "execution": {
     "iopub.execute_input": "2023-11-19T11:35:24.252326Z",
     "iopub.status.busy": "2023-11-19T11:35:24.251924Z",
     "iopub.status.idle": "2023-11-19T11:35:28.891858Z",
     "shell.execute_reply": "2023-11-19T11:35:28.890619Z",
     "shell.execute_reply.started": "2023-11-19T11:35:24.252296Z"
    },
    "tags": []
   },
   "outputs": [
    {
     "name": "stdout",
     "output_type": "stream",
     "text": [
      "Epoch 1/10\n",
      " 16/115 [===>..........................] - ETA: 7s - loss: 0.9981 - accuracy: 0.7793"
     ]
    },
    {
     "ename": "KeyboardInterrupt",
     "evalue": "",
     "output_type": "error",
     "traceback": [
      "\u001b[0;31m---------------------------------------------------------------------------\u001b[0m",
      "\u001b[0;31mKeyboardInterrupt\u001b[0m                         Traceback (most recent call last)",
      "Cell \u001b[0;32mIn [25], line 1\u001b[0m\n\u001b[0;32m----> 1\u001b[0m history \u001b[38;5;241m=\u001b[39m model\u001b[38;5;241m.\u001b[39mfit(train_ds, \n\u001b[1;32m      2\u001b[0m           epochs\u001b[38;5;241m=\u001b[39m\u001b[38;5;241m10\u001b[39m, \n\u001b[1;32m      3\u001b[0m           validation_data \u001b[38;5;241m=\u001b[39m test_ds)\n",
      "File \u001b[0;32m/opt/saturncloud/envs/saturn/lib/python3.9/site-packages/keras/utils/traceback_utils.py:64\u001b[0m, in \u001b[0;36mfilter_traceback.<locals>.error_handler\u001b[0;34m(*args, **kwargs)\u001b[0m\n\u001b[1;32m     62\u001b[0m filtered_tb \u001b[38;5;241m=\u001b[39m \u001b[38;5;28;01mNone\u001b[39;00m\n\u001b[1;32m     63\u001b[0m \u001b[38;5;28;01mtry\u001b[39;00m:\n\u001b[0;32m---> 64\u001b[0m   \u001b[38;5;28;01mreturn\u001b[39;00m \u001b[43mfn\u001b[49m\u001b[43m(\u001b[49m\u001b[38;5;241;43m*\u001b[39;49m\u001b[43margs\u001b[49m\u001b[43m,\u001b[49m\u001b[43m \u001b[49m\u001b[38;5;241;43m*\u001b[39;49m\u001b[38;5;241;43m*\u001b[39;49m\u001b[43mkwargs\u001b[49m\u001b[43m)\u001b[49m\n\u001b[1;32m     65\u001b[0m \u001b[38;5;28;01mexcept\u001b[39;00m \u001b[38;5;167;01mException\u001b[39;00m \u001b[38;5;28;01mas\u001b[39;00m e:  \u001b[38;5;66;03m# pylint: disable=broad-except\u001b[39;00m\n\u001b[1;32m     66\u001b[0m   filtered_tb \u001b[38;5;241m=\u001b[39m _process_traceback_frames(e\u001b[38;5;241m.\u001b[39m__traceback__)\n",
      "File \u001b[0;32m/opt/saturncloud/envs/saturn/lib/python3.9/site-packages/keras/engine/training.py:1409\u001b[0m, in \u001b[0;36mModel.fit\u001b[0;34m(self, x, y, batch_size, epochs, verbose, callbacks, validation_split, validation_data, shuffle, class_weight, sample_weight, initial_epoch, steps_per_epoch, validation_steps, validation_batch_size, validation_freq, max_queue_size, workers, use_multiprocessing)\u001b[0m\n\u001b[1;32m   1402\u001b[0m \u001b[38;5;28;01mwith\u001b[39;00m tf\u001b[38;5;241m.\u001b[39mprofiler\u001b[38;5;241m.\u001b[39mexperimental\u001b[38;5;241m.\u001b[39mTrace(\n\u001b[1;32m   1403\u001b[0m     \u001b[38;5;124m'\u001b[39m\u001b[38;5;124mtrain\u001b[39m\u001b[38;5;124m'\u001b[39m,\n\u001b[1;32m   1404\u001b[0m     epoch_num\u001b[38;5;241m=\u001b[39mepoch,\n\u001b[1;32m   1405\u001b[0m     step_num\u001b[38;5;241m=\u001b[39mstep,\n\u001b[1;32m   1406\u001b[0m     batch_size\u001b[38;5;241m=\u001b[39mbatch_size,\n\u001b[1;32m   1407\u001b[0m     _r\u001b[38;5;241m=\u001b[39m\u001b[38;5;241m1\u001b[39m):\n\u001b[1;32m   1408\u001b[0m   callbacks\u001b[38;5;241m.\u001b[39mon_train_batch_begin(step)\n\u001b[0;32m-> 1409\u001b[0m   tmp_logs \u001b[38;5;241m=\u001b[39m \u001b[38;5;28;43mself\u001b[39;49m\u001b[38;5;241;43m.\u001b[39;49m\u001b[43mtrain_function\u001b[49m\u001b[43m(\u001b[49m\u001b[43miterator\u001b[49m\u001b[43m)\u001b[49m\n\u001b[1;32m   1410\u001b[0m   \u001b[38;5;28;01mif\u001b[39;00m data_handler\u001b[38;5;241m.\u001b[39mshould_sync:\n\u001b[1;32m   1411\u001b[0m     context\u001b[38;5;241m.\u001b[39masync_wait()\n",
      "File \u001b[0;32m/opt/saturncloud/envs/saturn/lib/python3.9/site-packages/tensorflow/python/util/traceback_utils.py:150\u001b[0m, in \u001b[0;36mfilter_traceback.<locals>.error_handler\u001b[0;34m(*args, **kwargs)\u001b[0m\n\u001b[1;32m    148\u001b[0m filtered_tb \u001b[38;5;241m=\u001b[39m \u001b[38;5;28;01mNone\u001b[39;00m\n\u001b[1;32m    149\u001b[0m \u001b[38;5;28;01mtry\u001b[39;00m:\n\u001b[0;32m--> 150\u001b[0m   \u001b[38;5;28;01mreturn\u001b[39;00m \u001b[43mfn\u001b[49m\u001b[43m(\u001b[49m\u001b[38;5;241;43m*\u001b[39;49m\u001b[43margs\u001b[49m\u001b[43m,\u001b[49m\u001b[43m \u001b[49m\u001b[38;5;241;43m*\u001b[39;49m\u001b[38;5;241;43m*\u001b[39;49m\u001b[43mkwargs\u001b[49m\u001b[43m)\u001b[49m\n\u001b[1;32m    151\u001b[0m \u001b[38;5;28;01mexcept\u001b[39;00m \u001b[38;5;167;01mException\u001b[39;00m \u001b[38;5;28;01mas\u001b[39;00m e:\n\u001b[1;32m    152\u001b[0m   filtered_tb \u001b[38;5;241m=\u001b[39m _process_traceback_frames(e\u001b[38;5;241m.\u001b[39m__traceback__)\n",
      "File \u001b[0;32m/opt/saturncloud/envs/saturn/lib/python3.9/site-packages/tensorflow/python/eager/def_function.py:915\u001b[0m, in \u001b[0;36mFunction.__call__\u001b[0;34m(self, *args, **kwds)\u001b[0m\n\u001b[1;32m    912\u001b[0m compiler \u001b[38;5;241m=\u001b[39m \u001b[38;5;124m\"\u001b[39m\u001b[38;5;124mxla\u001b[39m\u001b[38;5;124m\"\u001b[39m \u001b[38;5;28;01mif\u001b[39;00m \u001b[38;5;28mself\u001b[39m\u001b[38;5;241m.\u001b[39m_jit_compile \u001b[38;5;28;01melse\u001b[39;00m \u001b[38;5;124m\"\u001b[39m\u001b[38;5;124mnonXla\u001b[39m\u001b[38;5;124m\"\u001b[39m\n\u001b[1;32m    914\u001b[0m \u001b[38;5;28;01mwith\u001b[39;00m OptionalXlaContext(\u001b[38;5;28mself\u001b[39m\u001b[38;5;241m.\u001b[39m_jit_compile):\n\u001b[0;32m--> 915\u001b[0m   result \u001b[38;5;241m=\u001b[39m \u001b[38;5;28;43mself\u001b[39;49m\u001b[38;5;241;43m.\u001b[39;49m\u001b[43m_call\u001b[49m\u001b[43m(\u001b[49m\u001b[38;5;241;43m*\u001b[39;49m\u001b[43margs\u001b[49m\u001b[43m,\u001b[49m\u001b[43m \u001b[49m\u001b[38;5;241;43m*\u001b[39;49m\u001b[38;5;241;43m*\u001b[39;49m\u001b[43mkwds\u001b[49m\u001b[43m)\u001b[49m\n\u001b[1;32m    917\u001b[0m new_tracing_count \u001b[38;5;241m=\u001b[39m \u001b[38;5;28mself\u001b[39m\u001b[38;5;241m.\u001b[39mexperimental_get_tracing_count()\n\u001b[1;32m    918\u001b[0m without_tracing \u001b[38;5;241m=\u001b[39m (tracing_count \u001b[38;5;241m==\u001b[39m new_tracing_count)\n",
      "File \u001b[0;32m/opt/saturncloud/envs/saturn/lib/python3.9/site-packages/tensorflow/python/eager/def_function.py:947\u001b[0m, in \u001b[0;36mFunction._call\u001b[0;34m(self, *args, **kwds)\u001b[0m\n\u001b[1;32m    944\u001b[0m   \u001b[38;5;28mself\u001b[39m\u001b[38;5;241m.\u001b[39m_lock\u001b[38;5;241m.\u001b[39mrelease()\n\u001b[1;32m    945\u001b[0m   \u001b[38;5;66;03m# In this case we have created variables on the first call, so we run the\u001b[39;00m\n\u001b[1;32m    946\u001b[0m   \u001b[38;5;66;03m# defunned version which is guaranteed to never create variables.\u001b[39;00m\n\u001b[0;32m--> 947\u001b[0m   \u001b[38;5;28;01mreturn\u001b[39;00m \u001b[38;5;28;43mself\u001b[39;49m\u001b[38;5;241;43m.\u001b[39;49m\u001b[43m_stateless_fn\u001b[49m\u001b[43m(\u001b[49m\u001b[38;5;241;43m*\u001b[39;49m\u001b[43margs\u001b[49m\u001b[43m,\u001b[49m\u001b[43m \u001b[49m\u001b[38;5;241;43m*\u001b[39;49m\u001b[38;5;241;43m*\u001b[39;49m\u001b[43mkwds\u001b[49m\u001b[43m)\u001b[49m  \u001b[38;5;66;03m# pylint: disable=not-callable\u001b[39;00m\n\u001b[1;32m    948\u001b[0m \u001b[38;5;28;01melif\u001b[39;00m \u001b[38;5;28mself\u001b[39m\u001b[38;5;241m.\u001b[39m_stateful_fn \u001b[38;5;129;01mis\u001b[39;00m \u001b[38;5;129;01mnot\u001b[39;00m \u001b[38;5;28;01mNone\u001b[39;00m:\n\u001b[1;32m    949\u001b[0m   \u001b[38;5;66;03m# Release the lock early so that multiple threads can perform the call\u001b[39;00m\n\u001b[1;32m    950\u001b[0m   \u001b[38;5;66;03m# in parallel.\u001b[39;00m\n\u001b[1;32m    951\u001b[0m   \u001b[38;5;28mself\u001b[39m\u001b[38;5;241m.\u001b[39m_lock\u001b[38;5;241m.\u001b[39mrelease()\n",
      "File \u001b[0;32m/opt/saturncloud/envs/saturn/lib/python3.9/site-packages/tensorflow/python/eager/function.py:2453\u001b[0m, in \u001b[0;36mFunction.__call__\u001b[0;34m(self, *args, **kwargs)\u001b[0m\n\u001b[1;32m   2450\u001b[0m \u001b[38;5;28;01mwith\u001b[39;00m \u001b[38;5;28mself\u001b[39m\u001b[38;5;241m.\u001b[39m_lock:\n\u001b[1;32m   2451\u001b[0m   (graph_function,\n\u001b[1;32m   2452\u001b[0m    filtered_flat_args) \u001b[38;5;241m=\u001b[39m \u001b[38;5;28mself\u001b[39m\u001b[38;5;241m.\u001b[39m_maybe_define_function(args, kwargs)\n\u001b[0;32m-> 2453\u001b[0m \u001b[38;5;28;01mreturn\u001b[39;00m \u001b[43mgraph_function\u001b[49m\u001b[38;5;241;43m.\u001b[39;49m\u001b[43m_call_flat\u001b[49m\u001b[43m(\u001b[49m\n\u001b[1;32m   2454\u001b[0m \u001b[43m    \u001b[49m\u001b[43mfiltered_flat_args\u001b[49m\u001b[43m,\u001b[49m\u001b[43m \u001b[49m\u001b[43mcaptured_inputs\u001b[49m\u001b[38;5;241;43m=\u001b[39;49m\u001b[43mgraph_function\u001b[49m\u001b[38;5;241;43m.\u001b[39;49m\u001b[43mcaptured_inputs\u001b[49m\u001b[43m)\u001b[49m\n",
      "File \u001b[0;32m/opt/saturncloud/envs/saturn/lib/python3.9/site-packages/tensorflow/python/eager/function.py:1860\u001b[0m, in \u001b[0;36mConcreteFunction._call_flat\u001b[0;34m(self, args, captured_inputs, cancellation_manager)\u001b[0m\n\u001b[1;32m   1856\u001b[0m possible_gradient_type \u001b[38;5;241m=\u001b[39m gradients_util\u001b[38;5;241m.\u001b[39mPossibleTapeGradientTypes(args)\n\u001b[1;32m   1857\u001b[0m \u001b[38;5;28;01mif\u001b[39;00m (possible_gradient_type \u001b[38;5;241m==\u001b[39m gradients_util\u001b[38;5;241m.\u001b[39mPOSSIBLE_GRADIENT_TYPES_NONE\n\u001b[1;32m   1858\u001b[0m     \u001b[38;5;129;01mand\u001b[39;00m executing_eagerly):\n\u001b[1;32m   1859\u001b[0m   \u001b[38;5;66;03m# No tape is watching; skip to running the function.\u001b[39;00m\n\u001b[0;32m-> 1860\u001b[0m   \u001b[38;5;28;01mreturn\u001b[39;00m \u001b[38;5;28mself\u001b[39m\u001b[38;5;241m.\u001b[39m_build_call_outputs(\u001b[38;5;28;43mself\u001b[39;49m\u001b[38;5;241;43m.\u001b[39;49m\u001b[43m_inference_function\u001b[49m\u001b[38;5;241;43m.\u001b[39;49m\u001b[43mcall\u001b[49m\u001b[43m(\u001b[49m\n\u001b[1;32m   1861\u001b[0m \u001b[43m      \u001b[49m\u001b[43mctx\u001b[49m\u001b[43m,\u001b[49m\u001b[43m \u001b[49m\u001b[43margs\u001b[49m\u001b[43m,\u001b[49m\u001b[43m \u001b[49m\u001b[43mcancellation_manager\u001b[49m\u001b[38;5;241;43m=\u001b[39;49m\u001b[43mcancellation_manager\u001b[49m\u001b[43m)\u001b[49m)\n\u001b[1;32m   1862\u001b[0m forward_backward \u001b[38;5;241m=\u001b[39m \u001b[38;5;28mself\u001b[39m\u001b[38;5;241m.\u001b[39m_select_forward_and_backward_functions(\n\u001b[1;32m   1863\u001b[0m     args,\n\u001b[1;32m   1864\u001b[0m     possible_gradient_type,\n\u001b[1;32m   1865\u001b[0m     executing_eagerly)\n\u001b[1;32m   1866\u001b[0m forward_function, args_with_tangents \u001b[38;5;241m=\u001b[39m forward_backward\u001b[38;5;241m.\u001b[39mforward()\n",
      "File \u001b[0;32m/opt/saturncloud/envs/saturn/lib/python3.9/site-packages/tensorflow/python/eager/function.py:497\u001b[0m, in \u001b[0;36m_EagerDefinedFunction.call\u001b[0;34m(self, ctx, args, cancellation_manager)\u001b[0m\n\u001b[1;32m    495\u001b[0m \u001b[38;5;28;01mwith\u001b[39;00m _InterpolateFunctionError(\u001b[38;5;28mself\u001b[39m):\n\u001b[1;32m    496\u001b[0m   \u001b[38;5;28;01mif\u001b[39;00m cancellation_manager \u001b[38;5;129;01mis\u001b[39;00m \u001b[38;5;28;01mNone\u001b[39;00m:\n\u001b[0;32m--> 497\u001b[0m     outputs \u001b[38;5;241m=\u001b[39m \u001b[43mexecute\u001b[49m\u001b[38;5;241;43m.\u001b[39;49m\u001b[43mexecute\u001b[49m\u001b[43m(\u001b[49m\n\u001b[1;32m    498\u001b[0m \u001b[43m        \u001b[49m\u001b[38;5;28;43mstr\u001b[39;49m\u001b[43m(\u001b[49m\u001b[38;5;28;43mself\u001b[39;49m\u001b[38;5;241;43m.\u001b[39;49m\u001b[43msignature\u001b[49m\u001b[38;5;241;43m.\u001b[39;49m\u001b[43mname\u001b[49m\u001b[43m)\u001b[49m\u001b[43m,\u001b[49m\n\u001b[1;32m    499\u001b[0m \u001b[43m        \u001b[49m\u001b[43mnum_outputs\u001b[49m\u001b[38;5;241;43m=\u001b[39;49m\u001b[38;5;28;43mself\u001b[39;49m\u001b[38;5;241;43m.\u001b[39;49m\u001b[43m_num_outputs\u001b[49m\u001b[43m,\u001b[49m\n\u001b[1;32m    500\u001b[0m \u001b[43m        \u001b[49m\u001b[43minputs\u001b[49m\u001b[38;5;241;43m=\u001b[39;49m\u001b[43margs\u001b[49m\u001b[43m,\u001b[49m\n\u001b[1;32m    501\u001b[0m \u001b[43m        \u001b[49m\u001b[43mattrs\u001b[49m\u001b[38;5;241;43m=\u001b[39;49m\u001b[43mattrs\u001b[49m\u001b[43m,\u001b[49m\n\u001b[1;32m    502\u001b[0m \u001b[43m        \u001b[49m\u001b[43mctx\u001b[49m\u001b[38;5;241;43m=\u001b[39;49m\u001b[43mctx\u001b[49m\u001b[43m)\u001b[49m\n\u001b[1;32m    503\u001b[0m   \u001b[38;5;28;01melse\u001b[39;00m:\n\u001b[1;32m    504\u001b[0m     outputs \u001b[38;5;241m=\u001b[39m execute\u001b[38;5;241m.\u001b[39mexecute_with_cancellation(\n\u001b[1;32m    505\u001b[0m         \u001b[38;5;28mstr\u001b[39m(\u001b[38;5;28mself\u001b[39m\u001b[38;5;241m.\u001b[39msignature\u001b[38;5;241m.\u001b[39mname),\n\u001b[1;32m    506\u001b[0m         num_outputs\u001b[38;5;241m=\u001b[39m\u001b[38;5;28mself\u001b[39m\u001b[38;5;241m.\u001b[39m_num_outputs,\n\u001b[0;32m   (...)\u001b[0m\n\u001b[1;32m    509\u001b[0m         ctx\u001b[38;5;241m=\u001b[39mctx,\n\u001b[1;32m    510\u001b[0m         cancellation_manager\u001b[38;5;241m=\u001b[39mcancellation_manager)\n",
      "File \u001b[0;32m/opt/saturncloud/envs/saturn/lib/python3.9/site-packages/tensorflow/python/eager/execute.py:54\u001b[0m, in \u001b[0;36mquick_execute\u001b[0;34m(op_name, num_outputs, inputs, attrs, ctx, name)\u001b[0m\n\u001b[1;32m     52\u001b[0m \u001b[38;5;28;01mtry\u001b[39;00m:\n\u001b[1;32m     53\u001b[0m   ctx\u001b[38;5;241m.\u001b[39mensure_initialized()\n\u001b[0;32m---> 54\u001b[0m   tensors \u001b[38;5;241m=\u001b[39m \u001b[43mpywrap_tfe\u001b[49m\u001b[38;5;241;43m.\u001b[39;49m\u001b[43mTFE_Py_Execute\u001b[49m\u001b[43m(\u001b[49m\u001b[43mctx\u001b[49m\u001b[38;5;241;43m.\u001b[39;49m\u001b[43m_handle\u001b[49m\u001b[43m,\u001b[49m\u001b[43m \u001b[49m\u001b[43mdevice_name\u001b[49m\u001b[43m,\u001b[49m\u001b[43m \u001b[49m\u001b[43mop_name\u001b[49m\u001b[43m,\u001b[49m\n\u001b[1;32m     55\u001b[0m \u001b[43m                                      \u001b[49m\u001b[43minputs\u001b[49m\u001b[43m,\u001b[49m\u001b[43m \u001b[49m\u001b[43mattrs\u001b[49m\u001b[43m,\u001b[49m\u001b[43m \u001b[49m\u001b[43mnum_outputs\u001b[49m\u001b[43m)\u001b[49m\n\u001b[1;32m     56\u001b[0m \u001b[38;5;28;01mexcept\u001b[39;00m core\u001b[38;5;241m.\u001b[39m_NotOkStatusException \u001b[38;5;28;01mas\u001b[39;00m e:\n\u001b[1;32m     57\u001b[0m   \u001b[38;5;28;01mif\u001b[39;00m name \u001b[38;5;129;01mis\u001b[39;00m \u001b[38;5;129;01mnot\u001b[39;00m \u001b[38;5;28;01mNone\u001b[39;00m:\n",
      "\u001b[0;31mKeyboardInterrupt\u001b[0m: "
     ]
    }
   ],
   "source": [
    "history = model.fit(train_ds, \n",
    "          epochs=10, \n",
    "          validation_data = test_ds)"
   ]
  },
  {
   "cell_type": "code",
   "execution_count": 26,
   "id": "d2f202cc-2dba-4d27-bb9e-d47f7d880bae",
   "metadata": {
    "execution": {
     "iopub.execute_input": "2023-11-19T11:35:38.596290Z",
     "iopub.status.busy": "2023-11-19T11:35:38.595880Z",
     "iopub.status.idle": "2023-11-19T11:35:38.599756Z",
     "shell.execute_reply": "2023-11-19T11:35:38.599131Z",
     "shell.execute_reply.started": "2023-11-19T11:35:38.596262Z"
    },
    "tags": []
   },
   "outputs": [],
   "source": [
    "import matplotlib.pyplot as plt "
   ]
  },
  {
   "cell_type": "code",
   "execution_count": 27,
   "id": "05768f17-521d-4865-9b45-615ab40fce3c",
   "metadata": {
    "execution": {
     "iopub.execute_input": "2023-11-19T11:35:39.296739Z",
     "iopub.status.busy": "2023-11-19T11:35:39.296457Z",
     "iopub.status.idle": "2023-11-19T11:35:39.311167Z",
     "shell.execute_reply": "2023-11-19T11:35:39.310145Z",
     "shell.execute_reply.started": "2023-11-19T11:35:39.296719Z"
    },
    "tags": []
   },
   "outputs": [
    {
     "ename": "NameError",
     "evalue": "name 'history' is not defined",
     "output_type": "error",
     "traceback": [
      "\u001b[0;31m---------------------------------------------------------------------------\u001b[0m",
      "\u001b[0;31mNameError\u001b[0m                                 Traceback (most recent call last)",
      "Cell \u001b[0;32mIn [27], line 1\u001b[0m\n\u001b[0;32m----> 1\u001b[0m plt\u001b[38;5;241m.\u001b[39mplot(history\u001b[38;5;241m.\u001b[39mhistory[\u001b[38;5;124m'\u001b[39m\u001b[38;5;124maccuracy\u001b[39m\u001b[38;5;124m'\u001b[39m], label \u001b[38;5;241m=\u001b[39m \u001b[38;5;124m'\u001b[39m\u001b[38;5;124mtrain\u001b[39m\u001b[38;5;124m'\u001b[39m)\n\u001b[1;32m      3\u001b[0m plt\u001b[38;5;241m.\u001b[39mplot(history\u001b[38;5;241m.\u001b[39mhistory[\u001b[38;5;124m'\u001b[39m\u001b[38;5;124mval_accuracy\u001b[39m\u001b[38;5;124m'\u001b[39m], label \u001b[38;5;241m=\u001b[39m \u001b[38;5;124m'\u001b[39m\u001b[38;5;124mtest\u001b[39m\u001b[38;5;124m'\u001b[39m)\n\u001b[1;32m      4\u001b[0m \u001b[38;5;66;03m#plt.xtick(np.arange(10))\u001b[39;00m\n",
      "\u001b[0;31mNameError\u001b[0m: name 'history' is not defined"
     ]
    }
   ],
   "source": [
    "plt.plot(history.history['accuracy'], label = 'train')\n",
    "\n",
    "plt.plot(history.history['val_accuracy'], label = 'test')\n",
    "#plt.xtick(np.arange(10))\n",
    "plt.legend()\n"
   ]
  },
  {
   "cell_type": "code",
   "execution_count": 28,
   "id": "87e337ce-eaf8-44ac-a30d-14832ce8ceeb",
   "metadata": {
    "execution": {
     "iopub.execute_input": "2023-11-19T11:35:44.363011Z",
     "iopub.status.busy": "2023-11-19T11:35:44.362631Z",
     "iopub.status.idle": "2023-11-19T11:35:44.366207Z",
     "shell.execute_reply": "2023-11-19T11:35:44.365443Z",
     "shell.execute_reply.started": "2023-11-19T11:35:44.362989Z"
    },
    "tags": []
   },
   "outputs": [],
   "source": [
    "#adjust learning rate"
   ]
  },
  {
   "cell_type": "code",
   "execution_count": 29,
   "id": "cba03b63-a4d5-4b56-9434-2ea2bf74941a",
   "metadata": {
    "execution": {
     "iopub.execute_input": "2023-11-19T11:35:45.133540Z",
     "iopub.status.busy": "2023-11-19T11:35:45.133247Z",
     "iopub.status.idle": "2023-11-19T11:35:45.139077Z",
     "shell.execute_reply": "2023-11-19T11:35:45.138328Z",
     "shell.execute_reply.started": "2023-11-19T11:35:45.133521Z"
    },
    "tags": []
   },
   "outputs": [],
   "source": [
    "def make_model(learning_rate = 0.01):\n",
    "    base_model = Xception(weights = 'imagenet', \n",
    "                          include_top = False, \n",
    "                         input_shape = (150,150,3)\n",
    "                         )\n",
    "\n",
    "\n",
    "    base_model.trainable = False\n",
    "\n",
    "\n",
    "    inputs = keras.Input(shape=(150,150,3))\n",
    "\n",
    "    base = base_model(inputs, training=False)\n",
    "\n",
    "    ###########\n",
    "    vectors = keras.layers.GlobalAveragePooling2D()(base)\n",
    "\n",
    "    outputs = keras.layers.Dense(2)(vectors)\n",
    "\n",
    "    model =keras.Model(inputs, outputs)\n",
    "    \n",
    "    ###############\n",
    "    \n",
    "    optimizer  = keras.optimizers.Adam(learning_rate = learning_rate)\n",
    "\n",
    "    loss = keras.losses.CategoricalCrossentropy(from_logits= True)\n",
    "\n",
    "\n",
    "\n",
    "    model.compile(optimizer=optimizer,\n",
    "                  loss=loss,\n",
    "              metrics=['accuracy'])\n",
    "    return model"
   ]
  },
  {
   "cell_type": "code",
   "execution_count": null,
   "id": "c5e1c493-9a2a-4223-8a81-ad3e3329d573",
   "metadata": {
    "execution": {
     "iopub.status.busy": "2023-11-19T11:34:59.568275Z",
     "iopub.status.idle": "2023-11-19T11:34:59.568515Z",
     "shell.execute_reply": "2023-11-19T11:34:59.568408Z",
     "shell.execute_reply.started": "2023-11-19T11:34:59.568396Z"
    },
    "tags": []
   },
   "outputs": [],
   "source": [
    "scores = {}\n",
    "for lr in [0.0001,0.001, 0.01,0.1]:    \n",
    "    print(lr)\n",
    "    model = make_model(learning_rate =lr)\n",
    "    history = model.fit(train_ds, \n",
    "              epochs=10, \n",
    "              validation_data = test_ds)\n",
    "    scores[lr]=history.history\n",
    "    \n",
    "    print()\n",
    "    print(lr)"
   ]
  },
  {
   "cell_type": "code",
   "execution_count": null,
   "id": "302074ae-004f-4872-9b4b-4e2b7033b704",
   "metadata": {
    "execution": {
     "iopub.status.busy": "2023-11-19T11:34:59.569948Z",
     "iopub.status.idle": "2023-11-19T11:34:59.570438Z",
     "shell.execute_reply": "2023-11-19T11:34:59.570320Z",
     "shell.execute_reply.started": "2023-11-19T11:34:59.570305Z"
    }
   },
   "outputs": [],
   "source": [
    "for lr, hist in scores.items():\n",
    "    plt.plot(hist['accuracy'], label = lr)\n",
    "    #plt.xtick(np.arange(10))\n",
    "    plt.legend()"
   ]
  },
  {
   "cell_type": "code",
   "execution_count": null,
   "id": "9fb815f5-fcd7-425e-aa52-8bd82e57400d",
   "metadata": {
    "execution": {
     "iopub.status.busy": "2023-11-19T11:34:59.571803Z",
     "iopub.status.idle": "2023-11-19T11:34:59.572375Z",
     "shell.execute_reply": "2023-11-19T11:34:59.572250Z",
     "shell.execute_reply.started": "2023-11-19T11:34:59.572236Z"
    },
    "tags": []
   },
   "outputs": [],
   "source": [
    "\n",
    "for lr, hist in scores.items():\n",
    "    plt.plot(hist['val_accuracy'], label = lr)\n",
    "    #plt.xtick(np.arange(10))\n",
    "    plt.legend()\n"
   ]
  },
  {
   "cell_type": "code",
   "execution_count": 30,
   "id": "e91d9391-f88d-4d81-bdef-5c95247d6224",
   "metadata": {
    "execution": {
     "iopub.execute_input": "2023-11-19T11:35:52.335764Z",
     "iopub.status.busy": "2023-11-19T11:35:52.335372Z",
     "iopub.status.idle": "2023-11-19T11:35:52.338994Z",
     "shell.execute_reply": "2023-11-19T11:35:52.338307Z",
     "shell.execute_reply.started": "2023-11-19T11:35:52.335741Z"
    },
    "tags": []
   },
   "outputs": [],
   "source": [
    "learning_rate = 0.001"
   ]
  },
  {
   "cell_type": "code",
   "execution_count": 31,
   "id": "356d9b0e-3445-42b6-aa27-604d656b3172",
   "metadata": {
    "execution": {
     "iopub.execute_input": "2023-11-19T11:35:52.957354Z",
     "iopub.status.busy": "2023-11-19T11:35:52.957068Z",
     "iopub.status.idle": "2023-11-19T11:35:52.960206Z",
     "shell.execute_reply": "2023-11-19T11:35:52.959592Z",
     "shell.execute_reply.started": "2023-11-19T11:35:52.957335Z"
    },
    "tags": []
   },
   "outputs": [],
   "source": [
    "#checkpoints"
   ]
  },
  {
   "cell_type": "code",
   "execution_count": 32,
   "id": "0abfd285-a245-40a2-b170-1b68228f8284",
   "metadata": {
    "execution": {
     "iopub.execute_input": "2023-11-19T11:35:53.634339Z",
     "iopub.status.busy": "2023-11-19T11:35:53.634046Z",
     "iopub.status.idle": "2023-11-19T11:35:53.997121Z",
     "shell.execute_reply": "2023-11-19T11:35:53.996337Z",
     "shell.execute_reply.started": "2023-11-19T11:35:53.634319Z"
    },
    "tags": []
   },
   "outputs": [],
   "source": [
    "model.save_weights('model_v1.h5', save_format = 'h5')\n",
    "                   "
   ]
  },
  {
   "cell_type": "code",
   "execution_count": 33,
   "id": "fb8dd98a-eed1-4376-8303-5e1f0448d5ba",
   "metadata": {
    "execution": {
     "iopub.execute_input": "2023-11-19T11:35:54.744759Z",
     "iopub.status.busy": "2023-11-19T11:35:54.744389Z",
     "iopub.status.idle": "2023-11-19T11:35:54.749371Z",
     "shell.execute_reply": "2023-11-19T11:35:54.748773Z",
     "shell.execute_reply.started": "2023-11-19T11:35:54.744737Z"
    },
    "tags": []
   },
   "outputs": [
    {
     "data": {
      "text/plain": [
       "'xception_v1_03_0.840.h5'"
      ]
     },
     "execution_count": 33,
     "metadata": {},
     "output_type": "execute_result"
    }
   ],
   "source": [
    "('xception_v1_{epoch:02d}_{val_accuracy:.3f}.h5').format(epoch=3, val_accuracy = 0.84)\n",
    "\n"
   ]
  },
  {
   "cell_type": "code",
   "execution_count": 34,
   "id": "7819e84a-afc2-4ab2-b200-03ae176c47d7",
   "metadata": {
    "execution": {
     "iopub.execute_input": "2023-11-19T11:35:57.820848Z",
     "iopub.status.busy": "2023-11-19T11:35:57.820462Z",
     "iopub.status.idle": "2023-11-19T11:35:57.824606Z",
     "shell.execute_reply": "2023-11-19T11:35:57.823748Z",
     "shell.execute_reply.started": "2023-11-19T11:35:57.820826Z"
    },
    "tags": []
   },
   "outputs": [],
   "source": [
    "\n",
    "\n",
    "\n",
    "checkpoint = keras.callbacks.ModelCheckpoint(\n",
    "    'xception_v1_{epoch:02d}_{val_accuracy:.3f}.h5',\n",
    "    save_best_only = True,\n",
    "    monitor = 'val_accuracy',\n",
    "    mode = 'max'\n",
    "\n",
    "\n",
    ")\n",
    "\n"
   ]
  },
  {
   "cell_type": "code",
   "execution_count": 35,
   "id": "81638bc5-aa29-44a0-b87f-b6fc61ca0731",
   "metadata": {
    "execution": {
     "iopub.execute_input": "2023-11-19T11:36:03.862550Z",
     "iopub.status.busy": "2023-11-19T11:36:03.862162Z",
     "iopub.status.idle": "2023-11-19T11:36:05.743599Z",
     "shell.execute_reply": "2023-11-19T11:36:05.742542Z",
     "shell.execute_reply.started": "2023-11-19T11:36:03.862528Z"
    },
    "tags": []
   },
   "outputs": [
    {
     "name": "stdout",
     "output_type": "stream",
     "text": [
      "Epoch 1/10\n",
      " 21/115 [====>.........................] - ETA: 6s - loss: 0.4196 - accuracy: 0.8571"
     ]
    },
    {
     "ename": "KeyboardInterrupt",
     "evalue": "",
     "output_type": "error",
     "traceback": [
      "\u001b[0;31m---------------------------------------------------------------------------\u001b[0m",
      "\u001b[0;31mKeyboardInterrupt\u001b[0m                         Traceback (most recent call last)",
      "Cell \u001b[0;32mIn [35], line 3\u001b[0m\n\u001b[1;32m      1\u001b[0m learning_rate \u001b[38;5;241m=\u001b[39m \u001b[38;5;241m0.001\u001b[39m\n\u001b[0;32m----> 3\u001b[0m history \u001b[38;5;241m=\u001b[39m model\u001b[38;5;241m.\u001b[39mfit(train_ds, \n\u001b[1;32m      4\u001b[0m               epochs\u001b[38;5;241m=\u001b[39m\u001b[38;5;241m10\u001b[39m, \n\u001b[1;32m      5\u001b[0m               validation_data \u001b[38;5;241m=\u001b[39m test_ds,\n\u001b[1;32m      6\u001b[0m                    callbacks \u001b[38;5;241m=\u001b[39m [checkpoint])\n",
      "File \u001b[0;32m/opt/saturncloud/envs/saturn/lib/python3.9/site-packages/keras/utils/traceback_utils.py:64\u001b[0m, in \u001b[0;36mfilter_traceback.<locals>.error_handler\u001b[0;34m(*args, **kwargs)\u001b[0m\n\u001b[1;32m     62\u001b[0m filtered_tb \u001b[38;5;241m=\u001b[39m \u001b[38;5;28;01mNone\u001b[39;00m\n\u001b[1;32m     63\u001b[0m \u001b[38;5;28;01mtry\u001b[39;00m:\n\u001b[0;32m---> 64\u001b[0m   \u001b[38;5;28;01mreturn\u001b[39;00m \u001b[43mfn\u001b[49m\u001b[43m(\u001b[49m\u001b[38;5;241;43m*\u001b[39;49m\u001b[43margs\u001b[49m\u001b[43m,\u001b[49m\u001b[43m \u001b[49m\u001b[38;5;241;43m*\u001b[39;49m\u001b[38;5;241;43m*\u001b[39;49m\u001b[43mkwargs\u001b[49m\u001b[43m)\u001b[49m\n\u001b[1;32m     65\u001b[0m \u001b[38;5;28;01mexcept\u001b[39;00m \u001b[38;5;167;01mException\u001b[39;00m \u001b[38;5;28;01mas\u001b[39;00m e:  \u001b[38;5;66;03m# pylint: disable=broad-except\u001b[39;00m\n\u001b[1;32m     66\u001b[0m   filtered_tb \u001b[38;5;241m=\u001b[39m _process_traceback_frames(e\u001b[38;5;241m.\u001b[39m__traceback__)\n",
      "File \u001b[0;32m/opt/saturncloud/envs/saturn/lib/python3.9/site-packages/keras/engine/training.py:1409\u001b[0m, in \u001b[0;36mModel.fit\u001b[0;34m(self, x, y, batch_size, epochs, verbose, callbacks, validation_split, validation_data, shuffle, class_weight, sample_weight, initial_epoch, steps_per_epoch, validation_steps, validation_batch_size, validation_freq, max_queue_size, workers, use_multiprocessing)\u001b[0m\n\u001b[1;32m   1402\u001b[0m \u001b[38;5;28;01mwith\u001b[39;00m tf\u001b[38;5;241m.\u001b[39mprofiler\u001b[38;5;241m.\u001b[39mexperimental\u001b[38;5;241m.\u001b[39mTrace(\n\u001b[1;32m   1403\u001b[0m     \u001b[38;5;124m'\u001b[39m\u001b[38;5;124mtrain\u001b[39m\u001b[38;5;124m'\u001b[39m,\n\u001b[1;32m   1404\u001b[0m     epoch_num\u001b[38;5;241m=\u001b[39mepoch,\n\u001b[1;32m   1405\u001b[0m     step_num\u001b[38;5;241m=\u001b[39mstep,\n\u001b[1;32m   1406\u001b[0m     batch_size\u001b[38;5;241m=\u001b[39mbatch_size,\n\u001b[1;32m   1407\u001b[0m     _r\u001b[38;5;241m=\u001b[39m\u001b[38;5;241m1\u001b[39m):\n\u001b[1;32m   1408\u001b[0m   callbacks\u001b[38;5;241m.\u001b[39mon_train_batch_begin(step)\n\u001b[0;32m-> 1409\u001b[0m   tmp_logs \u001b[38;5;241m=\u001b[39m \u001b[38;5;28;43mself\u001b[39;49m\u001b[38;5;241;43m.\u001b[39;49m\u001b[43mtrain_function\u001b[49m\u001b[43m(\u001b[49m\u001b[43miterator\u001b[49m\u001b[43m)\u001b[49m\n\u001b[1;32m   1410\u001b[0m   \u001b[38;5;28;01mif\u001b[39;00m data_handler\u001b[38;5;241m.\u001b[39mshould_sync:\n\u001b[1;32m   1411\u001b[0m     context\u001b[38;5;241m.\u001b[39masync_wait()\n",
      "File \u001b[0;32m/opt/saturncloud/envs/saturn/lib/python3.9/site-packages/tensorflow/python/util/traceback_utils.py:150\u001b[0m, in \u001b[0;36mfilter_traceback.<locals>.error_handler\u001b[0;34m(*args, **kwargs)\u001b[0m\n\u001b[1;32m    148\u001b[0m filtered_tb \u001b[38;5;241m=\u001b[39m \u001b[38;5;28;01mNone\u001b[39;00m\n\u001b[1;32m    149\u001b[0m \u001b[38;5;28;01mtry\u001b[39;00m:\n\u001b[0;32m--> 150\u001b[0m   \u001b[38;5;28;01mreturn\u001b[39;00m \u001b[43mfn\u001b[49m\u001b[43m(\u001b[49m\u001b[38;5;241;43m*\u001b[39;49m\u001b[43margs\u001b[49m\u001b[43m,\u001b[49m\u001b[43m \u001b[49m\u001b[38;5;241;43m*\u001b[39;49m\u001b[38;5;241;43m*\u001b[39;49m\u001b[43mkwargs\u001b[49m\u001b[43m)\u001b[49m\n\u001b[1;32m    151\u001b[0m \u001b[38;5;28;01mexcept\u001b[39;00m \u001b[38;5;167;01mException\u001b[39;00m \u001b[38;5;28;01mas\u001b[39;00m e:\n\u001b[1;32m    152\u001b[0m   filtered_tb \u001b[38;5;241m=\u001b[39m _process_traceback_frames(e\u001b[38;5;241m.\u001b[39m__traceback__)\n",
      "File \u001b[0;32m/opt/saturncloud/envs/saturn/lib/python3.9/site-packages/tensorflow/python/eager/def_function.py:915\u001b[0m, in \u001b[0;36mFunction.__call__\u001b[0;34m(self, *args, **kwds)\u001b[0m\n\u001b[1;32m    912\u001b[0m compiler \u001b[38;5;241m=\u001b[39m \u001b[38;5;124m\"\u001b[39m\u001b[38;5;124mxla\u001b[39m\u001b[38;5;124m\"\u001b[39m \u001b[38;5;28;01mif\u001b[39;00m \u001b[38;5;28mself\u001b[39m\u001b[38;5;241m.\u001b[39m_jit_compile \u001b[38;5;28;01melse\u001b[39;00m \u001b[38;5;124m\"\u001b[39m\u001b[38;5;124mnonXla\u001b[39m\u001b[38;5;124m\"\u001b[39m\n\u001b[1;32m    914\u001b[0m \u001b[38;5;28;01mwith\u001b[39;00m OptionalXlaContext(\u001b[38;5;28mself\u001b[39m\u001b[38;5;241m.\u001b[39m_jit_compile):\n\u001b[0;32m--> 915\u001b[0m   result \u001b[38;5;241m=\u001b[39m \u001b[38;5;28;43mself\u001b[39;49m\u001b[38;5;241;43m.\u001b[39;49m\u001b[43m_call\u001b[49m\u001b[43m(\u001b[49m\u001b[38;5;241;43m*\u001b[39;49m\u001b[43margs\u001b[49m\u001b[43m,\u001b[49m\u001b[43m \u001b[49m\u001b[38;5;241;43m*\u001b[39;49m\u001b[38;5;241;43m*\u001b[39;49m\u001b[43mkwds\u001b[49m\u001b[43m)\u001b[49m\n\u001b[1;32m    917\u001b[0m new_tracing_count \u001b[38;5;241m=\u001b[39m \u001b[38;5;28mself\u001b[39m\u001b[38;5;241m.\u001b[39mexperimental_get_tracing_count()\n\u001b[1;32m    918\u001b[0m without_tracing \u001b[38;5;241m=\u001b[39m (tracing_count \u001b[38;5;241m==\u001b[39m new_tracing_count)\n",
      "File \u001b[0;32m/opt/saturncloud/envs/saturn/lib/python3.9/site-packages/tensorflow/python/eager/def_function.py:947\u001b[0m, in \u001b[0;36mFunction._call\u001b[0;34m(self, *args, **kwds)\u001b[0m\n\u001b[1;32m    944\u001b[0m   \u001b[38;5;28mself\u001b[39m\u001b[38;5;241m.\u001b[39m_lock\u001b[38;5;241m.\u001b[39mrelease()\n\u001b[1;32m    945\u001b[0m   \u001b[38;5;66;03m# In this case we have created variables on the first call, so we run the\u001b[39;00m\n\u001b[1;32m    946\u001b[0m   \u001b[38;5;66;03m# defunned version which is guaranteed to never create variables.\u001b[39;00m\n\u001b[0;32m--> 947\u001b[0m   \u001b[38;5;28;01mreturn\u001b[39;00m \u001b[38;5;28;43mself\u001b[39;49m\u001b[38;5;241;43m.\u001b[39;49m\u001b[43m_stateless_fn\u001b[49m\u001b[43m(\u001b[49m\u001b[38;5;241;43m*\u001b[39;49m\u001b[43margs\u001b[49m\u001b[43m,\u001b[49m\u001b[43m \u001b[49m\u001b[38;5;241;43m*\u001b[39;49m\u001b[38;5;241;43m*\u001b[39;49m\u001b[43mkwds\u001b[49m\u001b[43m)\u001b[49m  \u001b[38;5;66;03m# pylint: disable=not-callable\u001b[39;00m\n\u001b[1;32m    948\u001b[0m \u001b[38;5;28;01melif\u001b[39;00m \u001b[38;5;28mself\u001b[39m\u001b[38;5;241m.\u001b[39m_stateful_fn \u001b[38;5;129;01mis\u001b[39;00m \u001b[38;5;129;01mnot\u001b[39;00m \u001b[38;5;28;01mNone\u001b[39;00m:\n\u001b[1;32m    949\u001b[0m   \u001b[38;5;66;03m# Release the lock early so that multiple threads can perform the call\u001b[39;00m\n\u001b[1;32m    950\u001b[0m   \u001b[38;5;66;03m# in parallel.\u001b[39;00m\n\u001b[1;32m    951\u001b[0m   \u001b[38;5;28mself\u001b[39m\u001b[38;5;241m.\u001b[39m_lock\u001b[38;5;241m.\u001b[39mrelease()\n",
      "File \u001b[0;32m/opt/saturncloud/envs/saturn/lib/python3.9/site-packages/tensorflow/python/eager/function.py:2453\u001b[0m, in \u001b[0;36mFunction.__call__\u001b[0;34m(self, *args, **kwargs)\u001b[0m\n\u001b[1;32m   2450\u001b[0m \u001b[38;5;28;01mwith\u001b[39;00m \u001b[38;5;28mself\u001b[39m\u001b[38;5;241m.\u001b[39m_lock:\n\u001b[1;32m   2451\u001b[0m   (graph_function,\n\u001b[1;32m   2452\u001b[0m    filtered_flat_args) \u001b[38;5;241m=\u001b[39m \u001b[38;5;28mself\u001b[39m\u001b[38;5;241m.\u001b[39m_maybe_define_function(args, kwargs)\n\u001b[0;32m-> 2453\u001b[0m \u001b[38;5;28;01mreturn\u001b[39;00m \u001b[43mgraph_function\u001b[49m\u001b[38;5;241;43m.\u001b[39;49m\u001b[43m_call_flat\u001b[49m\u001b[43m(\u001b[49m\n\u001b[1;32m   2454\u001b[0m \u001b[43m    \u001b[49m\u001b[43mfiltered_flat_args\u001b[49m\u001b[43m,\u001b[49m\u001b[43m \u001b[49m\u001b[43mcaptured_inputs\u001b[49m\u001b[38;5;241;43m=\u001b[39;49m\u001b[43mgraph_function\u001b[49m\u001b[38;5;241;43m.\u001b[39;49m\u001b[43mcaptured_inputs\u001b[49m\u001b[43m)\u001b[49m\n",
      "File \u001b[0;32m/opt/saturncloud/envs/saturn/lib/python3.9/site-packages/tensorflow/python/eager/function.py:1860\u001b[0m, in \u001b[0;36mConcreteFunction._call_flat\u001b[0;34m(self, args, captured_inputs, cancellation_manager)\u001b[0m\n\u001b[1;32m   1856\u001b[0m possible_gradient_type \u001b[38;5;241m=\u001b[39m gradients_util\u001b[38;5;241m.\u001b[39mPossibleTapeGradientTypes(args)\n\u001b[1;32m   1857\u001b[0m \u001b[38;5;28;01mif\u001b[39;00m (possible_gradient_type \u001b[38;5;241m==\u001b[39m gradients_util\u001b[38;5;241m.\u001b[39mPOSSIBLE_GRADIENT_TYPES_NONE\n\u001b[1;32m   1858\u001b[0m     \u001b[38;5;129;01mand\u001b[39;00m executing_eagerly):\n\u001b[1;32m   1859\u001b[0m   \u001b[38;5;66;03m# No tape is watching; skip to running the function.\u001b[39;00m\n\u001b[0;32m-> 1860\u001b[0m   \u001b[38;5;28;01mreturn\u001b[39;00m \u001b[38;5;28mself\u001b[39m\u001b[38;5;241m.\u001b[39m_build_call_outputs(\u001b[38;5;28;43mself\u001b[39;49m\u001b[38;5;241;43m.\u001b[39;49m\u001b[43m_inference_function\u001b[49m\u001b[38;5;241;43m.\u001b[39;49m\u001b[43mcall\u001b[49m\u001b[43m(\u001b[49m\n\u001b[1;32m   1861\u001b[0m \u001b[43m      \u001b[49m\u001b[43mctx\u001b[49m\u001b[43m,\u001b[49m\u001b[43m \u001b[49m\u001b[43margs\u001b[49m\u001b[43m,\u001b[49m\u001b[43m \u001b[49m\u001b[43mcancellation_manager\u001b[49m\u001b[38;5;241;43m=\u001b[39;49m\u001b[43mcancellation_manager\u001b[49m\u001b[43m)\u001b[49m)\n\u001b[1;32m   1862\u001b[0m forward_backward \u001b[38;5;241m=\u001b[39m \u001b[38;5;28mself\u001b[39m\u001b[38;5;241m.\u001b[39m_select_forward_and_backward_functions(\n\u001b[1;32m   1863\u001b[0m     args,\n\u001b[1;32m   1864\u001b[0m     possible_gradient_type,\n\u001b[1;32m   1865\u001b[0m     executing_eagerly)\n\u001b[1;32m   1866\u001b[0m forward_function, args_with_tangents \u001b[38;5;241m=\u001b[39m forward_backward\u001b[38;5;241m.\u001b[39mforward()\n",
      "File \u001b[0;32m/opt/saturncloud/envs/saturn/lib/python3.9/site-packages/tensorflow/python/eager/function.py:497\u001b[0m, in \u001b[0;36m_EagerDefinedFunction.call\u001b[0;34m(self, ctx, args, cancellation_manager)\u001b[0m\n\u001b[1;32m    495\u001b[0m \u001b[38;5;28;01mwith\u001b[39;00m _InterpolateFunctionError(\u001b[38;5;28mself\u001b[39m):\n\u001b[1;32m    496\u001b[0m   \u001b[38;5;28;01mif\u001b[39;00m cancellation_manager \u001b[38;5;129;01mis\u001b[39;00m \u001b[38;5;28;01mNone\u001b[39;00m:\n\u001b[0;32m--> 497\u001b[0m     outputs \u001b[38;5;241m=\u001b[39m \u001b[43mexecute\u001b[49m\u001b[38;5;241;43m.\u001b[39;49m\u001b[43mexecute\u001b[49m\u001b[43m(\u001b[49m\n\u001b[1;32m    498\u001b[0m \u001b[43m        \u001b[49m\u001b[38;5;28;43mstr\u001b[39;49m\u001b[43m(\u001b[49m\u001b[38;5;28;43mself\u001b[39;49m\u001b[38;5;241;43m.\u001b[39;49m\u001b[43msignature\u001b[49m\u001b[38;5;241;43m.\u001b[39;49m\u001b[43mname\u001b[49m\u001b[43m)\u001b[49m\u001b[43m,\u001b[49m\n\u001b[1;32m    499\u001b[0m \u001b[43m        \u001b[49m\u001b[43mnum_outputs\u001b[49m\u001b[38;5;241;43m=\u001b[39;49m\u001b[38;5;28;43mself\u001b[39;49m\u001b[38;5;241;43m.\u001b[39;49m\u001b[43m_num_outputs\u001b[49m\u001b[43m,\u001b[49m\n\u001b[1;32m    500\u001b[0m \u001b[43m        \u001b[49m\u001b[43minputs\u001b[49m\u001b[38;5;241;43m=\u001b[39;49m\u001b[43margs\u001b[49m\u001b[43m,\u001b[49m\n\u001b[1;32m    501\u001b[0m \u001b[43m        \u001b[49m\u001b[43mattrs\u001b[49m\u001b[38;5;241;43m=\u001b[39;49m\u001b[43mattrs\u001b[49m\u001b[43m,\u001b[49m\n\u001b[1;32m    502\u001b[0m \u001b[43m        \u001b[49m\u001b[43mctx\u001b[49m\u001b[38;5;241;43m=\u001b[39;49m\u001b[43mctx\u001b[49m\u001b[43m)\u001b[49m\n\u001b[1;32m    503\u001b[0m   \u001b[38;5;28;01melse\u001b[39;00m:\n\u001b[1;32m    504\u001b[0m     outputs \u001b[38;5;241m=\u001b[39m execute\u001b[38;5;241m.\u001b[39mexecute_with_cancellation(\n\u001b[1;32m    505\u001b[0m         \u001b[38;5;28mstr\u001b[39m(\u001b[38;5;28mself\u001b[39m\u001b[38;5;241m.\u001b[39msignature\u001b[38;5;241m.\u001b[39mname),\n\u001b[1;32m    506\u001b[0m         num_outputs\u001b[38;5;241m=\u001b[39m\u001b[38;5;28mself\u001b[39m\u001b[38;5;241m.\u001b[39m_num_outputs,\n\u001b[0;32m   (...)\u001b[0m\n\u001b[1;32m    509\u001b[0m         ctx\u001b[38;5;241m=\u001b[39mctx,\n\u001b[1;32m    510\u001b[0m         cancellation_manager\u001b[38;5;241m=\u001b[39mcancellation_manager)\n",
      "File \u001b[0;32m/opt/saturncloud/envs/saturn/lib/python3.9/site-packages/tensorflow/python/eager/execute.py:54\u001b[0m, in \u001b[0;36mquick_execute\u001b[0;34m(op_name, num_outputs, inputs, attrs, ctx, name)\u001b[0m\n\u001b[1;32m     52\u001b[0m \u001b[38;5;28;01mtry\u001b[39;00m:\n\u001b[1;32m     53\u001b[0m   ctx\u001b[38;5;241m.\u001b[39mensure_initialized()\n\u001b[0;32m---> 54\u001b[0m   tensors \u001b[38;5;241m=\u001b[39m \u001b[43mpywrap_tfe\u001b[49m\u001b[38;5;241;43m.\u001b[39;49m\u001b[43mTFE_Py_Execute\u001b[49m\u001b[43m(\u001b[49m\u001b[43mctx\u001b[49m\u001b[38;5;241;43m.\u001b[39;49m\u001b[43m_handle\u001b[49m\u001b[43m,\u001b[49m\u001b[43m \u001b[49m\u001b[43mdevice_name\u001b[49m\u001b[43m,\u001b[49m\u001b[43m \u001b[49m\u001b[43mop_name\u001b[49m\u001b[43m,\u001b[49m\n\u001b[1;32m     55\u001b[0m \u001b[43m                                      \u001b[49m\u001b[43minputs\u001b[49m\u001b[43m,\u001b[49m\u001b[43m \u001b[49m\u001b[43mattrs\u001b[49m\u001b[43m,\u001b[49m\u001b[43m \u001b[49m\u001b[43mnum_outputs\u001b[49m\u001b[43m)\u001b[49m\n\u001b[1;32m     56\u001b[0m \u001b[38;5;28;01mexcept\u001b[39;00m core\u001b[38;5;241m.\u001b[39m_NotOkStatusException \u001b[38;5;28;01mas\u001b[39;00m e:\n\u001b[1;32m     57\u001b[0m   \u001b[38;5;28;01mif\u001b[39;00m name \u001b[38;5;129;01mis\u001b[39;00m \u001b[38;5;129;01mnot\u001b[39;00m \u001b[38;5;28;01mNone\u001b[39;00m:\n",
      "\u001b[0;31mKeyboardInterrupt\u001b[0m: "
     ]
    }
   ],
   "source": [
    "learning_rate = 0.001\n",
    "\n",
    "history = model.fit(train_ds, \n",
    "              epochs=10, \n",
    "              validation_data = test_ds,\n",
    "                   callbacks = [checkpoint])"
   ]
  },
  {
   "cell_type": "code",
   "execution_count": null,
   "id": "3135f185-5139-4418-b92e-60311f1d7480",
   "metadata": {
    "execution": {
     "iopub.status.busy": "2023-11-19T11:34:59.580755Z",
     "iopub.status.idle": "2023-11-19T11:34:59.581006Z",
     "shell.execute_reply": "2023-11-19T11:34:59.580897Z",
     "shell.execute_reply.started": "2023-11-19T11:34:59.580885Z"
    }
   },
   "outputs": [],
   "source": [
    "#adding more layers"
   ]
  },
  {
   "cell_type": "code",
   "execution_count": 36,
   "id": "e2c77a84-c92f-4026-9a6d-223fcb3415f8",
   "metadata": {
    "execution": {
     "iopub.execute_input": "2023-11-19T11:36:14.509463Z",
     "iopub.status.busy": "2023-11-19T11:36:14.509082Z",
     "iopub.status.idle": "2023-11-19T11:36:14.515292Z",
     "shell.execute_reply": "2023-11-19T11:36:14.514680Z",
     "shell.execute_reply.started": "2023-11-19T11:36:14.509441Z"
    },
    "tags": []
   },
   "outputs": [],
   "source": [
    "def make_model(learning_rate = 0.01, size_inner = 1000):\n",
    "    base_model = Xception(weights = 'imagenet', \n",
    "                          include_top = False, \n",
    "                         input_shape = (150,150,3)\n",
    "                         )\n",
    "\n",
    "\n",
    "    base_model.trainable = False\n",
    "\n",
    "\n",
    "    inputs = keras.Input(shape=(150,150,3))\n",
    "\n",
    "    base = base_model(inputs, training=False)\n",
    "\n",
    "    ###########\n",
    "    vectors = keras.layers.GlobalAveragePooling2D()(base)\n",
    "\n",
    "    inner = keras.layers.Dense(size_inner, activation = 'relu')(vectors)\n",
    "    \n",
    "    \n",
    "    \n",
    "    \n",
    "    outputs = keras.layers.Dense(2, activation = 'softmax')(inner)\n",
    "\n",
    "    model = keras.Model(inputs, outputs)\n",
    "    \n",
    "    ###############\n",
    "    \n",
    "    optimizer  = keras.optimizers.Adam(learning_rate = learning_rate)\n",
    "\n",
    "    loss = keras.losses.CategoricalCrossentropy(from_logits= True)\n",
    "\n",
    "    model.compile(optimizer=optimizer,\n",
    "                  loss=loss,\n",
    "              metrics=['accuracy'])\n",
    "    return model"
   ]
  },
  {
   "cell_type": "code",
   "execution_count": null,
   "id": "af9351b1-b1db-4989-9407-4943a1c743ea",
   "metadata": {
    "execution": {
     "iopub.status.busy": "2023-11-19T11:34:59.582803Z",
     "iopub.status.idle": "2023-11-19T11:34:59.583294Z",
     "shell.execute_reply": "2023-11-19T11:34:59.583170Z",
     "shell.execute_reply.started": "2023-11-19T11:34:59.583155Z"
    },
    "tags": []
   },
   "outputs": [],
   "source": [
    "scores = {}\n",
    "for si in [10,100, 1000]:    \n",
    "    print(si)\n",
    "    model = make_model(learning_rate = 0.001, size_inner = si)\n",
    "    history = model.fit(train_ds, \n",
    "              epochs=10, \n",
    "              validation_data = test_ds,)\n",
    "    scores[si]=history.history\n",
    "    \n",
    "    print()\n",
    "    print()"
   ]
  },
  {
   "cell_type": "code",
   "execution_count": null,
   "id": "9eafbaac-5966-4f92-9e56-b541e4299b38",
   "metadata": {
    "execution": {
     "iopub.status.busy": "2023-11-19T11:34:59.584398Z",
     "iopub.status.idle": "2023-11-19T11:34:59.584641Z",
     "shell.execute_reply": "2023-11-19T11:34:59.584534Z",
     "shell.execute_reply.started": "2023-11-19T11:34:59.584523Z"
    },
    "tags": []
   },
   "outputs": [],
   "source": [
    "\n",
    "for lr, hist in scores.items():\n",
    "    plt.plot(hist['accuracy'], label = lr)\n",
    "    #plt.xtick(np.arange(10))\n",
    "    plt.legend()\n"
   ]
  },
  {
   "cell_type": "code",
   "execution_count": null,
   "id": "cd3622d9-3e0e-4b16-b828-7c0278bc85c3",
   "metadata": {
    "execution": {
     "iopub.status.busy": "2023-11-19T11:34:59.585345Z",
     "iopub.status.idle": "2023-11-19T11:34:59.585590Z",
     "shell.execute_reply": "2023-11-19T11:34:59.585484Z",
     "shell.execute_reply.started": "2023-11-19T11:34:59.585472Z"
    },
    "tags": []
   },
   "outputs": [],
   "source": [
    "\n",
    "for lr, hist in scores.items():\n",
    "    plt.plot(hist['val_accuracy'], label = lr)\n",
    "    #plt.xtick(np.arange(10))\n",
    "    plt.legend()\n"
   ]
  },
  {
   "cell_type": "code",
   "execution_count": null,
   "id": "7191c51b-2ef6-4c2c-90ee-a7d8276549a1",
   "metadata": {
    "execution": {
     "iopub.status.busy": "2023-11-19T11:34:59.586290Z",
     "iopub.status.idle": "2023-11-19T11:34:59.586559Z",
     "shell.execute_reply": "2023-11-19T11:34:59.586447Z",
     "shell.execute_reply.started": "2023-11-19T11:34:59.586435Z"
    }
   },
   "outputs": [],
   "source": [
    "#regularization"
   ]
  },
  {
   "cell_type": "code",
   "execution_count": 37,
   "id": "c5d1e2c6-3d63-4615-9eea-6e50c86b1e87",
   "metadata": {
    "execution": {
     "iopub.execute_input": "2023-11-19T11:36:19.989806Z",
     "iopub.status.busy": "2023-11-19T11:36:19.989432Z",
     "iopub.status.idle": "2023-11-19T11:36:19.995737Z",
     "shell.execute_reply": "2023-11-19T11:36:19.995052Z",
     "shell.execute_reply.started": "2023-11-19T11:36:19.989781Z"
    },
    "tags": []
   },
   "outputs": [],
   "source": [
    "def make_model(learning_rate = 0.01, size_inner = 1000,dropout_rate= 0.8):\n",
    "    base_model = Xception(weights = 'imagenet', \n",
    "                          include_top = False, \n",
    "                         input_shape = (150,150,3)\n",
    "                         )\n",
    "\n",
    "\n",
    "    base_model.trainable = False\n",
    "\n",
    "\n",
    "    inputs = keras.Input(shape=(150,150,3))\n",
    "\n",
    "    base = base_model(inputs, training=False)\n",
    "\n",
    "    ###########\n",
    "    vectors = keras.layers.GlobalAveragePooling2D()(base)\n",
    "\n",
    "    inner = keras.layers.Dense(size_inner, activation = 'relu')(vectors)\n",
    "    \n",
    "    drop = keras.layers.Dropout(dropout_rate)(inner)\n",
    "    \n",
    "    outputs = keras.layers.Dense(2, activation = 'softmax')(drop)\n",
    "\n",
    "    model = keras.Model(inputs, outputs)\n",
    "    \n",
    "    ###############\n",
    "    \n",
    "    optimizer  = keras.optimizers.Adam(learning_rate = learning_rate)\n",
    "\n",
    "    loss = keras.losses.CategoricalCrossentropy(from_logits= True)\n",
    "\n",
    "    model.compile(optimizer=optimizer,\n",
    "                  loss=loss,\n",
    "              metrics=['accuracy'])\n",
    "    return model"
   ]
  },
  {
   "cell_type": "code",
   "execution_count": null,
   "id": "fbb22309-6b62-4e7d-94bd-f10295d1690a",
   "metadata": {
    "execution": {
     "iopub.status.busy": "2023-11-19T11:34:59.588622Z",
     "iopub.status.idle": "2023-11-19T11:34:59.588872Z",
     "shell.execute_reply": "2023-11-19T11:34:59.588765Z",
     "shell.execute_reply.started": "2023-11-19T11:34:59.588754Z"
    },
    "tags": []
   },
   "outputs": [],
   "source": [
    "scores = {}\n",
    "for dr in [0.0,0.2,0.5,0.8]:    \n",
    "    print(dr)\n",
    "    model = make_model(learning_rate = 0.001, size_inner = 1000, dropout_rate = dr)\n",
    "    history = model.fit(train_ds, \n",
    "              epochs=30, \n",
    "              validation_data = test_ds,)\n",
    "    scores[dr]=history.history\n",
    "    \n",
    "    print()\n",
    "    print()"
   ]
  },
  {
   "cell_type": "code",
   "execution_count": null,
   "id": "2975e8a1-8fa4-4108-a0ff-5cb0499b6224",
   "metadata": {
    "execution": {
     "iopub.status.busy": "2023-11-19T11:34:59.589632Z",
     "iopub.status.idle": "2023-11-19T11:34:59.589889Z",
     "shell.execute_reply": "2023-11-19T11:34:59.589769Z",
     "shell.execute_reply.started": "2023-11-19T11:34:59.589757Z"
    }
   },
   "outputs": [],
   "source": [
    "\n",
    "for lr, hist in scores.items():\n",
    "    plt.plot(hist['val_accuracy'], label = lr)\n",
    "    plt.xlim( )\n",
    "    plt.legend()\n"
   ]
  },
  {
   "cell_type": "code",
   "execution_count": 39,
   "id": "18efd4bd-998c-455b-80ff-56d59f0a3229",
   "metadata": {
    "execution": {
     "iopub.execute_input": "2023-11-19T11:38:03.539874Z",
     "iopub.status.busy": "2023-11-19T11:38:03.539490Z",
     "iopub.status.idle": "2023-11-19T11:38:03.543238Z",
     "shell.execute_reply": "2023-11-19T11:38:03.542450Z",
     "shell.execute_reply.started": "2023-11-19T11:38:03.539853Z"
    }
   },
   "outputs": [],
   "source": [
    "train_imgs_dir = './data/train/'"
   ]
  },
  {
   "cell_type": "code",
   "execution_count": 45,
   "id": "1ee79d76-411c-4d9b-9ee8-87ef9ebf0dfd",
   "metadata": {
    "execution": {
     "iopub.execute_input": "2023-11-19T12:00:58.851038Z",
     "iopub.status.busy": "2023-11-19T12:00:58.850650Z",
     "iopub.status.idle": "2023-11-19T12:00:58.854702Z",
     "shell.execute_reply": "2023-11-19T12:00:58.853916Z",
     "shell.execute_reply.started": "2023-11-19T12:00:58.851016Z"
    },
    "tags": []
   },
   "outputs": [],
   "source": [
    "input_size = 299"
   ]
  },
  {
   "cell_type": "code",
   "execution_count": 46,
   "id": "aa137d3a-5c0c-443d-80f4-4abc0d2d266d",
   "metadata": {
    "execution": {
     "iopub.execute_input": "2023-11-19T12:00:59.481533Z",
     "iopub.status.busy": "2023-11-19T12:00:59.481231Z",
     "iopub.status.idle": "2023-11-19T12:00:59.587362Z",
     "shell.execute_reply": "2023-11-19T12:00:59.586690Z",
     "shell.execute_reply.started": "2023-11-19T12:00:59.481513Z"
    },
    "tags": []
   },
   "outputs": [
    {
     "name": "stdout",
     "output_type": "stream",
     "text": [
      "Found 3677 images belonging to 2 classes.\n"
     ]
    }
   ],
   "source": [
    "# Create image generator for train data and also augment the images\n",
    "train_gen = ImageDataGenerator(preprocessing_function=preprocess_input,\n",
    "                               rotation_range=30,\n",
    "                               width_shift_range=10.0,\n",
    "                               height_shift_range=10.0,\n",
    "                               shear_range=10,\n",
    "                               zoom_range=0.1,\n",
    "                               vertical_flip=True)\n",
    "\n",
    "train_ds = train_gen.flow_from_directory(directory=train_imgs_dir,\n",
    "                                         target_size=(input_size,input_size),\n",
    "                                         batch_size=32)\n",
    "\n",
    "\n",
    "test_get = ImageDataGenerator(preprocessing_function = preprocess_input )\n",
    "\n",
    "test_ds = train_get.flow_from_directory('./data/test/',\n",
    "                              target_size = (input_size,input_size),\n",
    "                              batch_size = 32, shuffle = False)"
   ]
  },
  {
   "cell_type": "code",
   "execution_count": 47,
   "id": "89bb18e8-3859-4d79-b6b0-eaa0c04627d8",
   "metadata": {
    "execution": {
     "iopub.execute_input": "2023-11-19T12:01:02.068902Z",
     "iopub.status.busy": "2023-11-19T12:01:02.068526Z",
     "iopub.status.idle": "2023-11-19T12:01:02.097785Z",
     "shell.execute_reply": "2023-11-19T12:01:02.097194Z",
     "shell.execute_reply.started": "2023-11-19T12:01:02.068880Z"
    },
    "tags": []
   },
   "outputs": [
    {
     "name": "stdout",
     "output_type": "stream",
     "text": [
      "Found 918 images belonging to 2 classes.\n"
     ]
    }
   ],
   "source": []
  },
  {
   "cell_type": "code",
   "execution_count": 44,
   "id": "dc4d6582-b3ba-49a8-95ee-5f9f828b3458",
   "metadata": {
    "execution": {
     "iopub.execute_input": "2023-11-19T11:50:34.803682Z",
     "iopub.status.busy": "2023-11-19T11:50:34.803298Z",
     "iopub.status.idle": "2023-11-19T12:00:50.841413Z",
     "shell.execute_reply": "2023-11-19T12:00:50.839669Z",
     "shell.execute_reply.started": "2023-11-19T11:50:34.803660Z"
    }
   },
   "outputs": [
    {
     "name": "stdout",
     "output_type": "stream",
     "text": [
      "Epoch 1/50\n"
     ]
    },
    {
     "name": "stderr",
     "output_type": "stream",
     "text": [
      "/opt/saturncloud/envs/saturn/lib/python3.9/site-packages/tensorflow/python/util/dispatch.py:1082: UserWarning: \"`categorical_crossentropy` received `from_logits=True`, but the `output` argument was produced by a sigmoid or softmax activation and thus does not represent logits. Was this intended?\"\n",
      "  return dispatch_target(*args, **kwargs)\n"
     ]
    },
    {
     "name": "stdout",
     "output_type": "stream",
     "text": [
      "115/115 [==============================] - 29s 234ms/step - loss: 2.9196 - accuracy: 0.7873 - val_loss: 0.2373 - val_accuracy: 0.8965\n",
      "Epoch 2/50\n",
      "115/115 [==============================] - 23s 199ms/step - loss: 0.4301 - accuracy: 0.8346 - val_loss: 0.2343 - val_accuracy: 0.9031\n",
      "Epoch 3/50\n",
      "115/115 [==============================] - 23s 199ms/step - loss: 0.4020 - accuracy: 0.8363 - val_loss: 0.2291 - val_accuracy: 0.8998\n",
      "Epoch 4/50\n",
      "115/115 [==============================] - 23s 199ms/step - loss: 0.3966 - accuracy: 0.8306 - val_loss: 0.2267 - val_accuracy: 0.9085\n",
      "Epoch 5/50\n",
      "115/115 [==============================] - 23s 199ms/step - loss: 0.4425 - accuracy: 0.8153 - val_loss: 0.2363 - val_accuracy: 0.9031\n",
      "Epoch 6/50\n",
      "115/115 [==============================] - 23s 200ms/step - loss: 0.4039 - accuracy: 0.8243 - val_loss: 0.2341 - val_accuracy: 0.9107\n",
      "Epoch 7/50\n",
      "115/115 [==============================] - 23s 198ms/step - loss: 0.4447 - accuracy: 0.8200 - val_loss: 0.2131 - val_accuracy: 0.9205\n",
      "Epoch 8/50\n",
      "115/115 [==============================] - 23s 200ms/step - loss: 0.4969 - accuracy: 0.7873 - val_loss: 0.2599 - val_accuracy: 0.9031\n",
      "Epoch 9/50\n",
      "115/115 [==============================] - 23s 199ms/step - loss: 0.4865 - accuracy: 0.7860 - val_loss: 0.2649 - val_accuracy: 0.8878\n",
      "Epoch 10/50\n",
      "115/115 [==============================] - 23s 199ms/step - loss: 0.4871 - accuracy: 0.7854 - val_loss: 0.2585 - val_accuracy: 0.8911\n",
      "Epoch 11/50\n",
      "115/115 [==============================] - 23s 200ms/step - loss: 0.5005 - accuracy: 0.7873 - val_loss: 0.2491 - val_accuracy: 0.8834\n",
      "Epoch 12/50\n",
      "115/115 [==============================] - 23s 196ms/step - loss: 0.4993 - accuracy: 0.7767 - val_loss: 0.2431 - val_accuracy: 0.9020\n",
      "Epoch 13/50\n",
      "115/115 [==============================] - 23s 197ms/step - loss: 0.4611 - accuracy: 0.7895 - val_loss: 0.2797 - val_accuracy: 0.8824\n",
      "Epoch 14/50\n",
      "115/115 [==============================] - 23s 196ms/step - loss: 0.5040 - accuracy: 0.7669 - val_loss: 0.2338 - val_accuracy: 0.8976\n",
      "Epoch 15/50\n",
      "115/115 [==============================] - 23s 198ms/step - loss: 0.5174 - accuracy: 0.7479 - val_loss: 0.2924 - val_accuracy: 0.8671\n",
      "Epoch 16/50\n",
      "115/115 [==============================] - 23s 198ms/step - loss: 0.5239 - accuracy: 0.7582 - val_loss: 0.2623 - val_accuracy: 0.8987\n",
      "Epoch 17/50\n",
      "115/115 [==============================] - 23s 197ms/step - loss: 0.5398 - accuracy: 0.7479 - val_loss: 0.3065 - val_accuracy: 0.8246\n",
      "Epoch 18/50\n",
      "115/115 [==============================] - 23s 196ms/step - loss: 0.5406 - accuracy: 0.7305 - val_loss: 0.2603 - val_accuracy: 0.8813\n",
      "Epoch 19/50\n",
      "115/115 [==============================] - 23s 197ms/step - loss: 0.5899 - accuracy: 0.7109 - val_loss: 0.3208 - val_accuracy: 0.8889\n",
      "Epoch 20/50\n",
      "115/115 [==============================] - 23s 197ms/step - loss: 0.5938 - accuracy: 0.7174 - val_loss: 0.2891 - val_accuracy: 0.8660\n",
      "Epoch 21/50\n",
      "115/115 [==============================] - 23s 197ms/step - loss: 0.5656 - accuracy: 0.7381 - val_loss: 0.2846 - val_accuracy: 0.8878\n",
      "Epoch 22/50\n",
      "115/115 [==============================] - 23s 196ms/step - loss: 0.5479 - accuracy: 0.7449 - val_loss: 0.2472 - val_accuracy: 0.8693\n",
      "Epoch 23/50\n",
      "115/115 [==============================] - 23s 197ms/step - loss: 0.5908 - accuracy: 0.7286 - val_loss: 0.2978 - val_accuracy: 0.8976\n",
      "Epoch 24/50\n",
      "115/115 [==============================] - 23s 196ms/step - loss: 0.5606 - accuracy: 0.7177 - val_loss: 0.2683 - val_accuracy: 0.8954\n",
      "Epoch 25/50\n",
      "115/115 [==============================] - 23s 197ms/step - loss: 0.5514 - accuracy: 0.7193 - val_loss: 0.2641 - val_accuracy: 0.8954\n",
      "Epoch 26/50\n",
      "115/115 [==============================] - 23s 196ms/step - loss: 0.5610 - accuracy: 0.7112 - val_loss: 0.3814 - val_accuracy: 0.8399\n",
      "Epoch 27/50\n",
      " 85/115 [=====================>........] - ETA: 5s - loss: 0.5825 - accuracy: 0.7100"
     ]
    },
    {
     "ename": "KeyboardInterrupt",
     "evalue": "",
     "output_type": "error",
     "traceback": [
      "\u001b[0;31m---------------------------------------------------------------------------\u001b[0m",
      "\u001b[0;31mKeyboardInterrupt\u001b[0m                         Traceback (most recent call last)",
      "Cell \u001b[0;32mIn [44], line 6\u001b[0m\n\u001b[1;32m      1\u001b[0m model \u001b[38;5;241m=\u001b[39m make_model(learning_rate \u001b[38;5;241m=\u001b[39m \u001b[38;5;241m0.01\u001b[39m,\n\u001b[1;32m      2\u001b[0m                    size_inner \u001b[38;5;241m=\u001b[39m \u001b[38;5;241m1000\u001b[39m,\n\u001b[1;32m      3\u001b[0m                    dropout_rate\u001b[38;5;241m=\u001b[39m \u001b[38;5;241m0.8\u001b[39m)\n\u001b[0;32m----> 6\u001b[0m history \u001b[38;5;241m=\u001b[39m model\u001b[38;5;241m.\u001b[39mfit(train_ds, \n\u001b[1;32m      7\u001b[0m               epochs\u001b[38;5;241m=\u001b[39m\u001b[38;5;241m50\u001b[39m, \n\u001b[1;32m      8\u001b[0m               validation_data \u001b[38;5;241m=\u001b[39m test_ds,)\n",
      "File \u001b[0;32m/opt/saturncloud/envs/saturn/lib/python3.9/site-packages/keras/utils/traceback_utils.py:64\u001b[0m, in \u001b[0;36mfilter_traceback.<locals>.error_handler\u001b[0;34m(*args, **kwargs)\u001b[0m\n\u001b[1;32m     62\u001b[0m filtered_tb \u001b[38;5;241m=\u001b[39m \u001b[38;5;28;01mNone\u001b[39;00m\n\u001b[1;32m     63\u001b[0m \u001b[38;5;28;01mtry\u001b[39;00m:\n\u001b[0;32m---> 64\u001b[0m   \u001b[38;5;28;01mreturn\u001b[39;00m \u001b[43mfn\u001b[49m\u001b[43m(\u001b[49m\u001b[38;5;241;43m*\u001b[39;49m\u001b[43margs\u001b[49m\u001b[43m,\u001b[49m\u001b[43m \u001b[49m\u001b[38;5;241;43m*\u001b[39;49m\u001b[38;5;241;43m*\u001b[39;49m\u001b[43mkwargs\u001b[49m\u001b[43m)\u001b[49m\n\u001b[1;32m     65\u001b[0m \u001b[38;5;28;01mexcept\u001b[39;00m \u001b[38;5;167;01mException\u001b[39;00m \u001b[38;5;28;01mas\u001b[39;00m e:  \u001b[38;5;66;03m# pylint: disable=broad-except\u001b[39;00m\n\u001b[1;32m     66\u001b[0m   filtered_tb \u001b[38;5;241m=\u001b[39m _process_traceback_frames(e\u001b[38;5;241m.\u001b[39m__traceback__)\n",
      "File \u001b[0;32m/opt/saturncloud/envs/saturn/lib/python3.9/site-packages/keras/engine/training.py:1409\u001b[0m, in \u001b[0;36mModel.fit\u001b[0;34m(self, x, y, batch_size, epochs, verbose, callbacks, validation_split, validation_data, shuffle, class_weight, sample_weight, initial_epoch, steps_per_epoch, validation_steps, validation_batch_size, validation_freq, max_queue_size, workers, use_multiprocessing)\u001b[0m\n\u001b[1;32m   1402\u001b[0m \u001b[38;5;28;01mwith\u001b[39;00m tf\u001b[38;5;241m.\u001b[39mprofiler\u001b[38;5;241m.\u001b[39mexperimental\u001b[38;5;241m.\u001b[39mTrace(\n\u001b[1;32m   1403\u001b[0m     \u001b[38;5;124m'\u001b[39m\u001b[38;5;124mtrain\u001b[39m\u001b[38;5;124m'\u001b[39m,\n\u001b[1;32m   1404\u001b[0m     epoch_num\u001b[38;5;241m=\u001b[39mepoch,\n\u001b[1;32m   1405\u001b[0m     step_num\u001b[38;5;241m=\u001b[39mstep,\n\u001b[1;32m   1406\u001b[0m     batch_size\u001b[38;5;241m=\u001b[39mbatch_size,\n\u001b[1;32m   1407\u001b[0m     _r\u001b[38;5;241m=\u001b[39m\u001b[38;5;241m1\u001b[39m):\n\u001b[1;32m   1408\u001b[0m   callbacks\u001b[38;5;241m.\u001b[39mon_train_batch_begin(step)\n\u001b[0;32m-> 1409\u001b[0m   tmp_logs \u001b[38;5;241m=\u001b[39m \u001b[38;5;28;43mself\u001b[39;49m\u001b[38;5;241;43m.\u001b[39;49m\u001b[43mtrain_function\u001b[49m\u001b[43m(\u001b[49m\u001b[43miterator\u001b[49m\u001b[43m)\u001b[49m\n\u001b[1;32m   1410\u001b[0m   \u001b[38;5;28;01mif\u001b[39;00m data_handler\u001b[38;5;241m.\u001b[39mshould_sync:\n\u001b[1;32m   1411\u001b[0m     context\u001b[38;5;241m.\u001b[39masync_wait()\n",
      "File \u001b[0;32m/opt/saturncloud/envs/saturn/lib/python3.9/site-packages/tensorflow/python/util/traceback_utils.py:150\u001b[0m, in \u001b[0;36mfilter_traceback.<locals>.error_handler\u001b[0;34m(*args, **kwargs)\u001b[0m\n\u001b[1;32m    148\u001b[0m filtered_tb \u001b[38;5;241m=\u001b[39m \u001b[38;5;28;01mNone\u001b[39;00m\n\u001b[1;32m    149\u001b[0m \u001b[38;5;28;01mtry\u001b[39;00m:\n\u001b[0;32m--> 150\u001b[0m   \u001b[38;5;28;01mreturn\u001b[39;00m \u001b[43mfn\u001b[49m\u001b[43m(\u001b[49m\u001b[38;5;241;43m*\u001b[39;49m\u001b[43margs\u001b[49m\u001b[43m,\u001b[49m\u001b[43m \u001b[49m\u001b[38;5;241;43m*\u001b[39;49m\u001b[38;5;241;43m*\u001b[39;49m\u001b[43mkwargs\u001b[49m\u001b[43m)\u001b[49m\n\u001b[1;32m    151\u001b[0m \u001b[38;5;28;01mexcept\u001b[39;00m \u001b[38;5;167;01mException\u001b[39;00m \u001b[38;5;28;01mas\u001b[39;00m e:\n\u001b[1;32m    152\u001b[0m   filtered_tb \u001b[38;5;241m=\u001b[39m _process_traceback_frames(e\u001b[38;5;241m.\u001b[39m__traceback__)\n",
      "File \u001b[0;32m/opt/saturncloud/envs/saturn/lib/python3.9/site-packages/tensorflow/python/eager/def_function.py:915\u001b[0m, in \u001b[0;36mFunction.__call__\u001b[0;34m(self, *args, **kwds)\u001b[0m\n\u001b[1;32m    912\u001b[0m compiler \u001b[38;5;241m=\u001b[39m \u001b[38;5;124m\"\u001b[39m\u001b[38;5;124mxla\u001b[39m\u001b[38;5;124m\"\u001b[39m \u001b[38;5;28;01mif\u001b[39;00m \u001b[38;5;28mself\u001b[39m\u001b[38;5;241m.\u001b[39m_jit_compile \u001b[38;5;28;01melse\u001b[39;00m \u001b[38;5;124m\"\u001b[39m\u001b[38;5;124mnonXla\u001b[39m\u001b[38;5;124m\"\u001b[39m\n\u001b[1;32m    914\u001b[0m \u001b[38;5;28;01mwith\u001b[39;00m OptionalXlaContext(\u001b[38;5;28mself\u001b[39m\u001b[38;5;241m.\u001b[39m_jit_compile):\n\u001b[0;32m--> 915\u001b[0m   result \u001b[38;5;241m=\u001b[39m \u001b[38;5;28;43mself\u001b[39;49m\u001b[38;5;241;43m.\u001b[39;49m\u001b[43m_call\u001b[49m\u001b[43m(\u001b[49m\u001b[38;5;241;43m*\u001b[39;49m\u001b[43margs\u001b[49m\u001b[43m,\u001b[49m\u001b[43m \u001b[49m\u001b[38;5;241;43m*\u001b[39;49m\u001b[38;5;241;43m*\u001b[39;49m\u001b[43mkwds\u001b[49m\u001b[43m)\u001b[49m\n\u001b[1;32m    917\u001b[0m new_tracing_count \u001b[38;5;241m=\u001b[39m \u001b[38;5;28mself\u001b[39m\u001b[38;5;241m.\u001b[39mexperimental_get_tracing_count()\n\u001b[1;32m    918\u001b[0m without_tracing \u001b[38;5;241m=\u001b[39m (tracing_count \u001b[38;5;241m==\u001b[39m new_tracing_count)\n",
      "File \u001b[0;32m/opt/saturncloud/envs/saturn/lib/python3.9/site-packages/tensorflow/python/eager/def_function.py:947\u001b[0m, in \u001b[0;36mFunction._call\u001b[0;34m(self, *args, **kwds)\u001b[0m\n\u001b[1;32m    944\u001b[0m   \u001b[38;5;28mself\u001b[39m\u001b[38;5;241m.\u001b[39m_lock\u001b[38;5;241m.\u001b[39mrelease()\n\u001b[1;32m    945\u001b[0m   \u001b[38;5;66;03m# In this case we have created variables on the first call, so we run the\u001b[39;00m\n\u001b[1;32m    946\u001b[0m   \u001b[38;5;66;03m# defunned version which is guaranteed to never create variables.\u001b[39;00m\n\u001b[0;32m--> 947\u001b[0m   \u001b[38;5;28;01mreturn\u001b[39;00m \u001b[38;5;28;43mself\u001b[39;49m\u001b[38;5;241;43m.\u001b[39;49m\u001b[43m_stateless_fn\u001b[49m\u001b[43m(\u001b[49m\u001b[38;5;241;43m*\u001b[39;49m\u001b[43margs\u001b[49m\u001b[43m,\u001b[49m\u001b[43m \u001b[49m\u001b[38;5;241;43m*\u001b[39;49m\u001b[38;5;241;43m*\u001b[39;49m\u001b[43mkwds\u001b[49m\u001b[43m)\u001b[49m  \u001b[38;5;66;03m# pylint: disable=not-callable\u001b[39;00m\n\u001b[1;32m    948\u001b[0m \u001b[38;5;28;01melif\u001b[39;00m \u001b[38;5;28mself\u001b[39m\u001b[38;5;241m.\u001b[39m_stateful_fn \u001b[38;5;129;01mis\u001b[39;00m \u001b[38;5;129;01mnot\u001b[39;00m \u001b[38;5;28;01mNone\u001b[39;00m:\n\u001b[1;32m    949\u001b[0m   \u001b[38;5;66;03m# Release the lock early so that multiple threads can perform the call\u001b[39;00m\n\u001b[1;32m    950\u001b[0m   \u001b[38;5;66;03m# in parallel.\u001b[39;00m\n\u001b[1;32m    951\u001b[0m   \u001b[38;5;28mself\u001b[39m\u001b[38;5;241m.\u001b[39m_lock\u001b[38;5;241m.\u001b[39mrelease()\n",
      "File \u001b[0;32m/opt/saturncloud/envs/saturn/lib/python3.9/site-packages/tensorflow/python/eager/function.py:2453\u001b[0m, in \u001b[0;36mFunction.__call__\u001b[0;34m(self, *args, **kwargs)\u001b[0m\n\u001b[1;32m   2450\u001b[0m \u001b[38;5;28;01mwith\u001b[39;00m \u001b[38;5;28mself\u001b[39m\u001b[38;5;241m.\u001b[39m_lock:\n\u001b[1;32m   2451\u001b[0m   (graph_function,\n\u001b[1;32m   2452\u001b[0m    filtered_flat_args) \u001b[38;5;241m=\u001b[39m \u001b[38;5;28mself\u001b[39m\u001b[38;5;241m.\u001b[39m_maybe_define_function(args, kwargs)\n\u001b[0;32m-> 2453\u001b[0m \u001b[38;5;28;01mreturn\u001b[39;00m \u001b[43mgraph_function\u001b[49m\u001b[38;5;241;43m.\u001b[39;49m\u001b[43m_call_flat\u001b[49m\u001b[43m(\u001b[49m\n\u001b[1;32m   2454\u001b[0m \u001b[43m    \u001b[49m\u001b[43mfiltered_flat_args\u001b[49m\u001b[43m,\u001b[49m\u001b[43m \u001b[49m\u001b[43mcaptured_inputs\u001b[49m\u001b[38;5;241;43m=\u001b[39;49m\u001b[43mgraph_function\u001b[49m\u001b[38;5;241;43m.\u001b[39;49m\u001b[43mcaptured_inputs\u001b[49m\u001b[43m)\u001b[49m\n",
      "File \u001b[0;32m/opt/saturncloud/envs/saturn/lib/python3.9/site-packages/tensorflow/python/eager/function.py:1860\u001b[0m, in \u001b[0;36mConcreteFunction._call_flat\u001b[0;34m(self, args, captured_inputs, cancellation_manager)\u001b[0m\n\u001b[1;32m   1856\u001b[0m possible_gradient_type \u001b[38;5;241m=\u001b[39m gradients_util\u001b[38;5;241m.\u001b[39mPossibleTapeGradientTypes(args)\n\u001b[1;32m   1857\u001b[0m \u001b[38;5;28;01mif\u001b[39;00m (possible_gradient_type \u001b[38;5;241m==\u001b[39m gradients_util\u001b[38;5;241m.\u001b[39mPOSSIBLE_GRADIENT_TYPES_NONE\n\u001b[1;32m   1858\u001b[0m     \u001b[38;5;129;01mand\u001b[39;00m executing_eagerly):\n\u001b[1;32m   1859\u001b[0m   \u001b[38;5;66;03m# No tape is watching; skip to running the function.\u001b[39;00m\n\u001b[0;32m-> 1860\u001b[0m   \u001b[38;5;28;01mreturn\u001b[39;00m \u001b[38;5;28mself\u001b[39m\u001b[38;5;241m.\u001b[39m_build_call_outputs(\u001b[38;5;28;43mself\u001b[39;49m\u001b[38;5;241;43m.\u001b[39;49m\u001b[43m_inference_function\u001b[49m\u001b[38;5;241;43m.\u001b[39;49m\u001b[43mcall\u001b[49m\u001b[43m(\u001b[49m\n\u001b[1;32m   1861\u001b[0m \u001b[43m      \u001b[49m\u001b[43mctx\u001b[49m\u001b[43m,\u001b[49m\u001b[43m \u001b[49m\u001b[43margs\u001b[49m\u001b[43m,\u001b[49m\u001b[43m \u001b[49m\u001b[43mcancellation_manager\u001b[49m\u001b[38;5;241;43m=\u001b[39;49m\u001b[43mcancellation_manager\u001b[49m\u001b[43m)\u001b[49m)\n\u001b[1;32m   1862\u001b[0m forward_backward \u001b[38;5;241m=\u001b[39m \u001b[38;5;28mself\u001b[39m\u001b[38;5;241m.\u001b[39m_select_forward_and_backward_functions(\n\u001b[1;32m   1863\u001b[0m     args,\n\u001b[1;32m   1864\u001b[0m     possible_gradient_type,\n\u001b[1;32m   1865\u001b[0m     executing_eagerly)\n\u001b[1;32m   1866\u001b[0m forward_function, args_with_tangents \u001b[38;5;241m=\u001b[39m forward_backward\u001b[38;5;241m.\u001b[39mforward()\n",
      "File \u001b[0;32m/opt/saturncloud/envs/saturn/lib/python3.9/site-packages/tensorflow/python/eager/function.py:497\u001b[0m, in \u001b[0;36m_EagerDefinedFunction.call\u001b[0;34m(self, ctx, args, cancellation_manager)\u001b[0m\n\u001b[1;32m    495\u001b[0m \u001b[38;5;28;01mwith\u001b[39;00m _InterpolateFunctionError(\u001b[38;5;28mself\u001b[39m):\n\u001b[1;32m    496\u001b[0m   \u001b[38;5;28;01mif\u001b[39;00m cancellation_manager \u001b[38;5;129;01mis\u001b[39;00m \u001b[38;5;28;01mNone\u001b[39;00m:\n\u001b[0;32m--> 497\u001b[0m     outputs \u001b[38;5;241m=\u001b[39m \u001b[43mexecute\u001b[49m\u001b[38;5;241;43m.\u001b[39;49m\u001b[43mexecute\u001b[49m\u001b[43m(\u001b[49m\n\u001b[1;32m    498\u001b[0m \u001b[43m        \u001b[49m\u001b[38;5;28;43mstr\u001b[39;49m\u001b[43m(\u001b[49m\u001b[38;5;28;43mself\u001b[39;49m\u001b[38;5;241;43m.\u001b[39;49m\u001b[43msignature\u001b[49m\u001b[38;5;241;43m.\u001b[39;49m\u001b[43mname\u001b[49m\u001b[43m)\u001b[49m\u001b[43m,\u001b[49m\n\u001b[1;32m    499\u001b[0m \u001b[43m        \u001b[49m\u001b[43mnum_outputs\u001b[49m\u001b[38;5;241;43m=\u001b[39;49m\u001b[38;5;28;43mself\u001b[39;49m\u001b[38;5;241;43m.\u001b[39;49m\u001b[43m_num_outputs\u001b[49m\u001b[43m,\u001b[49m\n\u001b[1;32m    500\u001b[0m \u001b[43m        \u001b[49m\u001b[43minputs\u001b[49m\u001b[38;5;241;43m=\u001b[39;49m\u001b[43margs\u001b[49m\u001b[43m,\u001b[49m\n\u001b[1;32m    501\u001b[0m \u001b[43m        \u001b[49m\u001b[43mattrs\u001b[49m\u001b[38;5;241;43m=\u001b[39;49m\u001b[43mattrs\u001b[49m\u001b[43m,\u001b[49m\n\u001b[1;32m    502\u001b[0m \u001b[43m        \u001b[49m\u001b[43mctx\u001b[49m\u001b[38;5;241;43m=\u001b[39;49m\u001b[43mctx\u001b[49m\u001b[43m)\u001b[49m\n\u001b[1;32m    503\u001b[0m   \u001b[38;5;28;01melse\u001b[39;00m:\n\u001b[1;32m    504\u001b[0m     outputs \u001b[38;5;241m=\u001b[39m execute\u001b[38;5;241m.\u001b[39mexecute_with_cancellation(\n\u001b[1;32m    505\u001b[0m         \u001b[38;5;28mstr\u001b[39m(\u001b[38;5;28mself\u001b[39m\u001b[38;5;241m.\u001b[39msignature\u001b[38;5;241m.\u001b[39mname),\n\u001b[1;32m    506\u001b[0m         num_outputs\u001b[38;5;241m=\u001b[39m\u001b[38;5;28mself\u001b[39m\u001b[38;5;241m.\u001b[39m_num_outputs,\n\u001b[0;32m   (...)\u001b[0m\n\u001b[1;32m    509\u001b[0m         ctx\u001b[38;5;241m=\u001b[39mctx,\n\u001b[1;32m    510\u001b[0m         cancellation_manager\u001b[38;5;241m=\u001b[39mcancellation_manager)\n",
      "File \u001b[0;32m/opt/saturncloud/envs/saturn/lib/python3.9/site-packages/tensorflow/python/eager/execute.py:54\u001b[0m, in \u001b[0;36mquick_execute\u001b[0;34m(op_name, num_outputs, inputs, attrs, ctx, name)\u001b[0m\n\u001b[1;32m     52\u001b[0m \u001b[38;5;28;01mtry\u001b[39;00m:\n\u001b[1;32m     53\u001b[0m   ctx\u001b[38;5;241m.\u001b[39mensure_initialized()\n\u001b[0;32m---> 54\u001b[0m   tensors \u001b[38;5;241m=\u001b[39m \u001b[43mpywrap_tfe\u001b[49m\u001b[38;5;241;43m.\u001b[39;49m\u001b[43mTFE_Py_Execute\u001b[49m\u001b[43m(\u001b[49m\u001b[43mctx\u001b[49m\u001b[38;5;241;43m.\u001b[39;49m\u001b[43m_handle\u001b[49m\u001b[43m,\u001b[49m\u001b[43m \u001b[49m\u001b[43mdevice_name\u001b[49m\u001b[43m,\u001b[49m\u001b[43m \u001b[49m\u001b[43mop_name\u001b[49m\u001b[43m,\u001b[49m\n\u001b[1;32m     55\u001b[0m \u001b[43m                                      \u001b[49m\u001b[43minputs\u001b[49m\u001b[43m,\u001b[49m\u001b[43m \u001b[49m\u001b[43mattrs\u001b[49m\u001b[43m,\u001b[49m\u001b[43m \u001b[49m\u001b[43mnum_outputs\u001b[49m\u001b[43m)\u001b[49m\n\u001b[1;32m     56\u001b[0m \u001b[38;5;28;01mexcept\u001b[39;00m core\u001b[38;5;241m.\u001b[39m_NotOkStatusException \u001b[38;5;28;01mas\u001b[39;00m e:\n\u001b[1;32m     57\u001b[0m   \u001b[38;5;28;01mif\u001b[39;00m name \u001b[38;5;129;01mis\u001b[39;00m \u001b[38;5;129;01mnot\u001b[39;00m \u001b[38;5;28;01mNone\u001b[39;00m:\n",
      "\u001b[0;31mKeyboardInterrupt\u001b[0m: "
     ]
    }
   ],
   "source": [
    "model = make_model(learning_rate = 0.01,\n",
    "                   size_inner = 1000,\n",
    "                   dropout_rate= 0.8)\n",
    "    \n",
    "    \n",
    "history = model.fit(train_ds, \n",
    "              epochs=50, \n",
    "              validation_data = test_ds,)\n",
    "    "
   ]
  },
  {
   "cell_type": "code",
   "execution_count": 48,
   "id": "7d12af10-90bf-4cd2-b5e8-102af848c119",
   "metadata": {
    "execution": {
     "iopub.execute_input": "2023-11-19T12:01:14.866470Z",
     "iopub.status.busy": "2023-11-19T12:01:14.866091Z",
     "iopub.status.idle": "2023-11-19T12:01:14.880188Z",
     "shell.execute_reply": "2023-11-19T12:01:14.879141Z",
     "shell.execute_reply.started": "2023-11-19T12:01:14.866448Z"
    },
    "tags": []
   },
   "outputs": [
    {
     "ename": "NameError",
     "evalue": "name 'history' is not defined",
     "output_type": "error",
     "traceback": [
      "\u001b[0;31m---------------------------------------------------------------------------\u001b[0m",
      "\u001b[0;31mNameError\u001b[0m                                 Traceback (most recent call last)",
      "Cell \u001b[0;32mIn [48], line 1\u001b[0m\n\u001b[0;32m----> 1\u001b[0m plt\u001b[38;5;241m.\u001b[39mplot(history\u001b[38;5;241m.\u001b[39mhistory[\u001b[38;5;124m'\u001b[39m\u001b[38;5;124maccuracy\u001b[39m\u001b[38;5;124m'\u001b[39m], label \u001b[38;5;241m=\u001b[39m \u001b[38;5;124m'\u001b[39m\u001b[38;5;124mtrain\u001b[39m\u001b[38;5;124m'\u001b[39m)\n\u001b[1;32m      3\u001b[0m plt\u001b[38;5;241m.\u001b[39mplot(history\u001b[38;5;241m.\u001b[39mhistory[\u001b[38;5;124m'\u001b[39m\u001b[38;5;124mval_accuracy\u001b[39m\u001b[38;5;124m'\u001b[39m], label \u001b[38;5;241m=\u001b[39m \u001b[38;5;124m'\u001b[39m\u001b[38;5;124mtest\u001b[39m\u001b[38;5;124m'\u001b[39m)\n\u001b[1;32m      4\u001b[0m \u001b[38;5;66;03m#plt.xtick(np.arange(10))\u001b[39;00m\n",
      "\u001b[0;31mNameError\u001b[0m: name 'history' is not defined"
     ]
    }
   ],
   "source": [
    "plt.plot(history.history['accuracy'], label = 'train')\n",
    "\n",
    "plt.plot(history.history['val_accuracy'], label = 'test')\n",
    "#plt.xtick(np.arange(10))\n",
    "plt.legend()\n"
   ]
  },
  {
   "cell_type": "code",
   "execution_count": 49,
   "id": "7c9f11d9-cf52-4b83-9483-001c08ea5b85",
   "metadata": {
    "execution": {
     "iopub.execute_input": "2023-11-19T12:01:18.646447Z",
     "iopub.status.busy": "2023-11-19T12:01:18.646049Z",
     "iopub.status.idle": "2023-11-19T12:01:18.649543Z",
     "shell.execute_reply": "2023-11-19T12:01:18.648947Z",
     "shell.execute_reply.started": "2023-11-19T12:01:18.646422Z"
    }
   },
   "outputs": [],
   "source": [
    "# large datasets"
   ]
  },
  {
   "cell_type": "code",
   "execution_count": 53,
   "id": "25bc2d25-7a59-4a5f-96bc-55d9326fbb50",
   "metadata": {
    "execution": {
     "iopub.execute_input": "2023-11-19T12:04:08.863158Z",
     "iopub.status.busy": "2023-11-19T12:04:08.862763Z",
     "iopub.status.idle": "2023-11-19T12:04:08.980587Z",
     "shell.execute_reply": "2023-11-19T12:04:08.979909Z",
     "shell.execute_reply.started": "2023-11-19T12:04:08.863134Z"
    }
   },
   "outputs": [
    {
     "name": "stdout",
     "output_type": "stream",
     "text": [
      "Found 3677 images belonging to 2 classes.\n",
      "Found 918 images belonging to 2 classes.\n"
     ]
    }
   ],
   "source": [
    "# Create image generator for train data and also augment the images\n",
    "train_gen = ImageDataGenerator(preprocessing_function=preprocess_input,\n",
    "                               rotation_range=30,\n",
    "                               width_shift_range=10.0,\n",
    "                               height_shift_range=10.0,\n",
    "                               shear_range=10,\n",
    "                               zoom_range=0.1,\n",
    "                               vertical_flip=True)\n",
    "\n",
    "train_ds = train_gen.flow_from_directory(directory=train_imgs_dir,\n",
    "                                         target_size=(input_size,input_size),\n",
    "                                         batch_size=32)\n",
    "\n",
    "\n",
    "test_get = ImageDataGenerator(preprocessing_function = preprocess_input )\n",
    "\n",
    "test_ds = train_get.flow_from_directory('./data/test/',\n",
    "                              target_size = (input_size,input_size),\n",
    "                              batch_size = 32, shuffle = False)"
   ]
  },
  {
   "cell_type": "code",
   "execution_count": 54,
   "id": "175d421e-c99a-4344-9547-19f09f5c246d",
   "metadata": {
    "execution": {
     "iopub.execute_input": "2023-11-19T12:04:09.722105Z",
     "iopub.status.busy": "2023-11-19T12:04:09.721700Z",
     "iopub.status.idle": "2023-11-19T12:04:09.728737Z",
     "shell.execute_reply": "2023-11-19T12:04:09.728035Z",
     "shell.execute_reply.started": "2023-11-19T12:04:09.722081Z"
    },
    "tags": []
   },
   "outputs": [],
   "source": [
    "def make_model(learning_rate = 0.01, size_inner = 1000,dropout_rate= 0.8, input_size = 299):\n",
    "    base_model = Xception(weights = 'imagenet', \n",
    "                          include_top = False, \n",
    "                         input_shape = (input_size,input_size,3)\n",
    "                         )\n",
    "\n",
    "\n",
    "    base_model.trainable = False\n",
    "\n",
    "\n",
    "    inputs = keras.Input(shape=(input_size,input_size,3))\n",
    "\n",
    "    base = base_model(inputs, training=False)\n",
    "\n",
    "    ###########\n",
    "    vectors = keras.layers.GlobalAveragePooling2D()(base)\n",
    "\n",
    "    inner = keras.layers.Dense(size_inner, activation = 'relu')(vectors)\n",
    "    \n",
    "    drop = keras.layers.Dropout(dropout_rate)(inner)\n",
    "    \n",
    "    outputs = keras.layers.Dense(2, activation = 'softmax')(drop)\n",
    "\n",
    "    model = keras.Model(inputs, outputs)\n",
    "    \n",
    "    ###############\n",
    "    \n",
    "    optimizer  = keras.optimizers.Adam(learning_rate = learning_rate)\n",
    "\n",
    "    loss = keras.losses.CategoricalCrossentropy(from_logits= True)\n",
    "\n",
    "    model.compile(optimizer=optimizer,\n",
    "                  loss=loss,\n",
    "              metrics=['accuracy'])\n",
    "    return model"
   ]
  },
  {
   "cell_type": "code",
   "execution_count": 55,
   "id": "f7887785-f97a-4d3f-a7ae-5afd285b2da1",
   "metadata": {
    "execution": {
     "iopub.execute_input": "2023-11-19T12:04:11.857571Z",
     "iopub.status.busy": "2023-11-19T12:04:11.857215Z",
     "iopub.status.idle": "2023-11-19T12:04:11.860901Z",
     "shell.execute_reply": "2023-11-19T12:04:11.860281Z",
     "shell.execute_reply.started": "2023-11-19T12:04:11.857549Z"
    },
    "tags": []
   },
   "outputs": [],
   "source": [
    "checkpoint = keras.callbacks.ModelCheckpoint(\n",
    "    'xception_v4_{epoch:02d}_{val_accuracy:.3f}.h5',\n",
    "    save_best_only = True,\n",
    "    monitor = 'val_accuracy',\n",
    "    mode = 'max'\n",
    "\n",
    "\n",
    ")"
   ]
  },
  {
   "cell_type": "code",
   "execution_count": 56,
   "id": "a8267e6c-23bb-4ac1-81b0-8a092166fd35",
   "metadata": {
    "execution": {
     "iopub.execute_input": "2023-11-19T12:04:58.811746Z",
     "iopub.status.busy": "2023-11-19T12:04:58.811356Z",
     "iopub.status.idle": "2023-11-19T12:12:16.701080Z",
     "shell.execute_reply": "2023-11-19T12:12:16.699907Z",
     "shell.execute_reply.started": "2023-11-19T12:04:58.811723Z"
    },
    "tags": []
   },
   "outputs": [
    {
     "name": "stdout",
     "output_type": "stream",
     "text": [
      "Epoch 1/50\n",
      "115/115 [==============================] - 75s 634ms/step - loss: 1.0556 - accuracy: 0.8605 - val_loss: 0.1641 - val_accuracy: 0.9423\n",
      "Epoch 2/50\n",
      "115/115 [==============================] - 73s 632ms/step - loss: 0.2774 - accuracy: 0.9070 - val_loss: 0.1713 - val_accuracy: 0.9477\n",
      "Epoch 3/50\n",
      "115/115 [==============================] - 73s 631ms/step - loss: 0.2582 - accuracy: 0.9092 - val_loss: 0.1424 - val_accuracy: 0.9542\n",
      "Epoch 4/50\n",
      "115/115 [==============================] - 72s 628ms/step - loss: 0.2761 - accuracy: 0.9007 - val_loss: 0.1503 - val_accuracy: 0.9521\n",
      "Epoch 5/50\n",
      "115/115 [==============================] - 72s 628ms/step - loss: 0.2884 - accuracy: 0.8948 - val_loss: 0.1545 - val_accuracy: 0.9521\n",
      "Epoch 6/50\n",
      "115/115 [==============================] - ETA: 0s - loss: 0.3171 - accuracy: 0.8820"
     ]
    },
    {
     "ename": "KeyboardInterrupt",
     "evalue": "",
     "output_type": "error",
     "traceback": [
      "\u001b[0;31m---------------------------------------------------------------------------\u001b[0m",
      "\u001b[0;31mKeyboardInterrupt\u001b[0m                         Traceback (most recent call last)",
      "Cell \u001b[0;32mIn [56], line 13\u001b[0m\n\u001b[1;32m      4\u001b[0m input_size \u001b[38;5;241m=\u001b[39m \u001b[38;5;241m299\u001b[39m\n\u001b[1;32m      7\u001b[0m model \u001b[38;5;241m=\u001b[39m make_model(learning_rate \u001b[38;5;241m=\u001b[39m learning_rate,\n\u001b[1;32m      8\u001b[0m                    size_inner \u001b[38;5;241m=\u001b[39m size_inner,\n\u001b[1;32m      9\u001b[0m                    dropout_rate\u001b[38;5;241m=\u001b[39m dropout_rate,\n\u001b[1;32m     10\u001b[0m                   input_size \u001b[38;5;241m=\u001b[39m input_size)\n\u001b[0;32m---> 13\u001b[0m history \u001b[38;5;241m=\u001b[39m model\u001b[38;5;241m.\u001b[39mfit(train_ds, \n\u001b[1;32m     14\u001b[0m               epochs\u001b[38;5;241m=\u001b[39m\u001b[38;5;241m50\u001b[39m, \n\u001b[1;32m     15\u001b[0m               validation_data \u001b[38;5;241m=\u001b[39m test_ds,\n\u001b[1;32m     16\u001b[0m                    callbacks \u001b[38;5;241m=\u001b[39m [checkpoint])\n",
      "File \u001b[0;32m/opt/saturncloud/envs/saturn/lib/python3.9/site-packages/keras/utils/traceback_utils.py:64\u001b[0m, in \u001b[0;36mfilter_traceback.<locals>.error_handler\u001b[0;34m(*args, **kwargs)\u001b[0m\n\u001b[1;32m     62\u001b[0m filtered_tb \u001b[38;5;241m=\u001b[39m \u001b[38;5;28;01mNone\u001b[39;00m\n\u001b[1;32m     63\u001b[0m \u001b[38;5;28;01mtry\u001b[39;00m:\n\u001b[0;32m---> 64\u001b[0m   \u001b[38;5;28;01mreturn\u001b[39;00m \u001b[43mfn\u001b[49m\u001b[43m(\u001b[49m\u001b[38;5;241;43m*\u001b[39;49m\u001b[43margs\u001b[49m\u001b[43m,\u001b[49m\u001b[43m \u001b[49m\u001b[38;5;241;43m*\u001b[39;49m\u001b[38;5;241;43m*\u001b[39;49m\u001b[43mkwargs\u001b[49m\u001b[43m)\u001b[49m\n\u001b[1;32m     65\u001b[0m \u001b[38;5;28;01mexcept\u001b[39;00m \u001b[38;5;167;01mException\u001b[39;00m \u001b[38;5;28;01mas\u001b[39;00m e:  \u001b[38;5;66;03m# pylint: disable=broad-except\u001b[39;00m\n\u001b[1;32m     66\u001b[0m   filtered_tb \u001b[38;5;241m=\u001b[39m _process_traceback_frames(e\u001b[38;5;241m.\u001b[39m__traceback__)\n",
      "File \u001b[0;32m/opt/saturncloud/envs/saturn/lib/python3.9/site-packages/keras/engine/training.py:1445\u001b[0m, in \u001b[0;36mModel.fit\u001b[0;34m(self, x, y, batch_size, epochs, verbose, callbacks, validation_split, validation_data, shuffle, class_weight, sample_weight, initial_epoch, steps_per_epoch, validation_steps, validation_batch_size, validation_freq, max_queue_size, workers, use_multiprocessing)\u001b[0m\n\u001b[1;32m   1431\u001b[0m \u001b[38;5;28;01mif\u001b[39;00m \u001b[38;5;28mgetattr\u001b[39m(\u001b[38;5;28mself\u001b[39m, \u001b[38;5;124m'\u001b[39m\u001b[38;5;124m_eval_data_handler\u001b[39m\u001b[38;5;124m'\u001b[39m, \u001b[38;5;28;01mNone\u001b[39;00m) \u001b[38;5;129;01mis\u001b[39;00m \u001b[38;5;28;01mNone\u001b[39;00m:\n\u001b[1;32m   1432\u001b[0m   \u001b[38;5;28mself\u001b[39m\u001b[38;5;241m.\u001b[39m_eval_data_handler \u001b[38;5;241m=\u001b[39m data_adapter\u001b[38;5;241m.\u001b[39mget_data_handler(\n\u001b[1;32m   1433\u001b[0m       x\u001b[38;5;241m=\u001b[39mval_x,\n\u001b[1;32m   1434\u001b[0m       y\u001b[38;5;241m=\u001b[39mval_y,\n\u001b[0;32m   (...)\u001b[0m\n\u001b[1;32m   1443\u001b[0m       model\u001b[38;5;241m=\u001b[39m\u001b[38;5;28mself\u001b[39m,\n\u001b[1;32m   1444\u001b[0m       steps_per_execution\u001b[38;5;241m=\u001b[39m\u001b[38;5;28mself\u001b[39m\u001b[38;5;241m.\u001b[39m_steps_per_execution)\n\u001b[0;32m-> 1445\u001b[0m val_logs \u001b[38;5;241m=\u001b[39m \u001b[38;5;28;43mself\u001b[39;49m\u001b[38;5;241;43m.\u001b[39;49m\u001b[43mevaluate\u001b[49m\u001b[43m(\u001b[49m\n\u001b[1;32m   1446\u001b[0m \u001b[43m    \u001b[49m\u001b[43mx\u001b[49m\u001b[38;5;241;43m=\u001b[39;49m\u001b[43mval_x\u001b[49m\u001b[43m,\u001b[49m\n\u001b[1;32m   1447\u001b[0m \u001b[43m    \u001b[49m\u001b[43my\u001b[49m\u001b[38;5;241;43m=\u001b[39;49m\u001b[43mval_y\u001b[49m\u001b[43m,\u001b[49m\n\u001b[1;32m   1448\u001b[0m \u001b[43m    \u001b[49m\u001b[43msample_weight\u001b[49m\u001b[38;5;241;43m=\u001b[39;49m\u001b[43mval_sample_weight\u001b[49m\u001b[43m,\u001b[49m\n\u001b[1;32m   1449\u001b[0m \u001b[43m    \u001b[49m\u001b[43mbatch_size\u001b[49m\u001b[38;5;241;43m=\u001b[39;49m\u001b[43mvalidation_batch_size\u001b[49m\u001b[43m \u001b[49m\u001b[38;5;129;43;01mor\u001b[39;49;00m\u001b[43m \u001b[49m\u001b[43mbatch_size\u001b[49m\u001b[43m,\u001b[49m\n\u001b[1;32m   1450\u001b[0m \u001b[43m    \u001b[49m\u001b[43msteps\u001b[49m\u001b[38;5;241;43m=\u001b[39;49m\u001b[43mvalidation_steps\u001b[49m\u001b[43m,\u001b[49m\n\u001b[1;32m   1451\u001b[0m \u001b[43m    \u001b[49m\u001b[43mcallbacks\u001b[49m\u001b[38;5;241;43m=\u001b[39;49m\u001b[43mcallbacks\u001b[49m\u001b[43m,\u001b[49m\n\u001b[1;32m   1452\u001b[0m \u001b[43m    \u001b[49m\u001b[43mmax_queue_size\u001b[49m\u001b[38;5;241;43m=\u001b[39;49m\u001b[43mmax_queue_size\u001b[49m\u001b[43m,\u001b[49m\n\u001b[1;32m   1453\u001b[0m \u001b[43m    \u001b[49m\u001b[43mworkers\u001b[49m\u001b[38;5;241;43m=\u001b[39;49m\u001b[43mworkers\u001b[49m\u001b[43m,\u001b[49m\n\u001b[1;32m   1454\u001b[0m \u001b[43m    \u001b[49m\u001b[43muse_multiprocessing\u001b[49m\u001b[38;5;241;43m=\u001b[39;49m\u001b[43muse_multiprocessing\u001b[49m\u001b[43m,\u001b[49m\n\u001b[1;32m   1455\u001b[0m \u001b[43m    \u001b[49m\u001b[43mreturn_dict\u001b[49m\u001b[38;5;241;43m=\u001b[39;49m\u001b[38;5;28;43;01mTrue\u001b[39;49;00m\u001b[43m,\u001b[49m\n\u001b[1;32m   1456\u001b[0m \u001b[43m    \u001b[49m\u001b[43m_use_cached_eval_dataset\u001b[49m\u001b[38;5;241;43m=\u001b[39;49m\u001b[38;5;28;43;01mTrue\u001b[39;49;00m\u001b[43m)\u001b[49m\n\u001b[1;32m   1457\u001b[0m val_logs \u001b[38;5;241m=\u001b[39m {\u001b[38;5;124m'\u001b[39m\u001b[38;5;124mval_\u001b[39m\u001b[38;5;124m'\u001b[39m \u001b[38;5;241m+\u001b[39m name: val \u001b[38;5;28;01mfor\u001b[39;00m name, val \u001b[38;5;129;01min\u001b[39;00m val_logs\u001b[38;5;241m.\u001b[39mitems()}\n\u001b[1;32m   1458\u001b[0m epoch_logs\u001b[38;5;241m.\u001b[39mupdate(val_logs)\n",
      "File \u001b[0;32m/opt/saturncloud/envs/saturn/lib/python3.9/site-packages/keras/utils/traceback_utils.py:64\u001b[0m, in \u001b[0;36mfilter_traceback.<locals>.error_handler\u001b[0;34m(*args, **kwargs)\u001b[0m\n\u001b[1;32m     62\u001b[0m filtered_tb \u001b[38;5;241m=\u001b[39m \u001b[38;5;28;01mNone\u001b[39;00m\n\u001b[1;32m     63\u001b[0m \u001b[38;5;28;01mtry\u001b[39;00m:\n\u001b[0;32m---> 64\u001b[0m   \u001b[38;5;28;01mreturn\u001b[39;00m \u001b[43mfn\u001b[49m\u001b[43m(\u001b[49m\u001b[38;5;241;43m*\u001b[39;49m\u001b[43margs\u001b[49m\u001b[43m,\u001b[49m\u001b[43m \u001b[49m\u001b[38;5;241;43m*\u001b[39;49m\u001b[38;5;241;43m*\u001b[39;49m\u001b[43mkwargs\u001b[49m\u001b[43m)\u001b[49m\n\u001b[1;32m     65\u001b[0m \u001b[38;5;28;01mexcept\u001b[39;00m \u001b[38;5;167;01mException\u001b[39;00m \u001b[38;5;28;01mas\u001b[39;00m e:  \u001b[38;5;66;03m# pylint: disable=broad-except\u001b[39;00m\n\u001b[1;32m     66\u001b[0m   filtered_tb \u001b[38;5;241m=\u001b[39m _process_traceback_frames(e\u001b[38;5;241m.\u001b[39m__traceback__)\n",
      "File \u001b[0;32m/opt/saturncloud/envs/saturn/lib/python3.9/site-packages/keras/engine/training.py:1756\u001b[0m, in \u001b[0;36mModel.evaluate\u001b[0;34m(self, x, y, batch_size, verbose, sample_weight, steps, callbacks, max_queue_size, workers, use_multiprocessing, return_dict, **kwargs)\u001b[0m\n\u001b[1;32m   1754\u001b[0m \u001b[38;5;28;01mwith\u001b[39;00m tf\u001b[38;5;241m.\u001b[39mprofiler\u001b[38;5;241m.\u001b[39mexperimental\u001b[38;5;241m.\u001b[39mTrace(\u001b[38;5;124m'\u001b[39m\u001b[38;5;124mtest\u001b[39m\u001b[38;5;124m'\u001b[39m, step_num\u001b[38;5;241m=\u001b[39mstep, _r\u001b[38;5;241m=\u001b[39m\u001b[38;5;241m1\u001b[39m):\n\u001b[1;32m   1755\u001b[0m   callbacks\u001b[38;5;241m.\u001b[39mon_test_batch_begin(step)\n\u001b[0;32m-> 1756\u001b[0m   tmp_logs \u001b[38;5;241m=\u001b[39m \u001b[38;5;28;43mself\u001b[39;49m\u001b[38;5;241;43m.\u001b[39;49m\u001b[43mtest_function\u001b[49m\u001b[43m(\u001b[49m\u001b[43miterator\u001b[49m\u001b[43m)\u001b[49m\n\u001b[1;32m   1757\u001b[0m   \u001b[38;5;28;01mif\u001b[39;00m data_handler\u001b[38;5;241m.\u001b[39mshould_sync:\n\u001b[1;32m   1758\u001b[0m     context\u001b[38;5;241m.\u001b[39masync_wait()\n",
      "File \u001b[0;32m/opt/saturncloud/envs/saturn/lib/python3.9/site-packages/tensorflow/python/util/traceback_utils.py:150\u001b[0m, in \u001b[0;36mfilter_traceback.<locals>.error_handler\u001b[0;34m(*args, **kwargs)\u001b[0m\n\u001b[1;32m    148\u001b[0m filtered_tb \u001b[38;5;241m=\u001b[39m \u001b[38;5;28;01mNone\u001b[39;00m\n\u001b[1;32m    149\u001b[0m \u001b[38;5;28;01mtry\u001b[39;00m:\n\u001b[0;32m--> 150\u001b[0m   \u001b[38;5;28;01mreturn\u001b[39;00m \u001b[43mfn\u001b[49m\u001b[43m(\u001b[49m\u001b[38;5;241;43m*\u001b[39;49m\u001b[43margs\u001b[49m\u001b[43m,\u001b[49m\u001b[43m \u001b[49m\u001b[38;5;241;43m*\u001b[39;49m\u001b[38;5;241;43m*\u001b[39;49m\u001b[43mkwargs\u001b[49m\u001b[43m)\u001b[49m\n\u001b[1;32m    151\u001b[0m \u001b[38;5;28;01mexcept\u001b[39;00m \u001b[38;5;167;01mException\u001b[39;00m \u001b[38;5;28;01mas\u001b[39;00m e:\n\u001b[1;32m    152\u001b[0m   filtered_tb \u001b[38;5;241m=\u001b[39m _process_traceback_frames(e\u001b[38;5;241m.\u001b[39m__traceback__)\n",
      "File \u001b[0;32m/opt/saturncloud/envs/saturn/lib/python3.9/site-packages/tensorflow/python/eager/def_function.py:915\u001b[0m, in \u001b[0;36mFunction.__call__\u001b[0;34m(self, *args, **kwds)\u001b[0m\n\u001b[1;32m    912\u001b[0m compiler \u001b[38;5;241m=\u001b[39m \u001b[38;5;124m\"\u001b[39m\u001b[38;5;124mxla\u001b[39m\u001b[38;5;124m\"\u001b[39m \u001b[38;5;28;01mif\u001b[39;00m \u001b[38;5;28mself\u001b[39m\u001b[38;5;241m.\u001b[39m_jit_compile \u001b[38;5;28;01melse\u001b[39;00m \u001b[38;5;124m\"\u001b[39m\u001b[38;5;124mnonXla\u001b[39m\u001b[38;5;124m\"\u001b[39m\n\u001b[1;32m    914\u001b[0m \u001b[38;5;28;01mwith\u001b[39;00m OptionalXlaContext(\u001b[38;5;28mself\u001b[39m\u001b[38;5;241m.\u001b[39m_jit_compile):\n\u001b[0;32m--> 915\u001b[0m   result \u001b[38;5;241m=\u001b[39m \u001b[38;5;28;43mself\u001b[39;49m\u001b[38;5;241;43m.\u001b[39;49m\u001b[43m_call\u001b[49m\u001b[43m(\u001b[49m\u001b[38;5;241;43m*\u001b[39;49m\u001b[43margs\u001b[49m\u001b[43m,\u001b[49m\u001b[43m \u001b[49m\u001b[38;5;241;43m*\u001b[39;49m\u001b[38;5;241;43m*\u001b[39;49m\u001b[43mkwds\u001b[49m\u001b[43m)\u001b[49m\n\u001b[1;32m    917\u001b[0m new_tracing_count \u001b[38;5;241m=\u001b[39m \u001b[38;5;28mself\u001b[39m\u001b[38;5;241m.\u001b[39mexperimental_get_tracing_count()\n\u001b[1;32m    918\u001b[0m without_tracing \u001b[38;5;241m=\u001b[39m (tracing_count \u001b[38;5;241m==\u001b[39m new_tracing_count)\n",
      "File \u001b[0;32m/opt/saturncloud/envs/saturn/lib/python3.9/site-packages/tensorflow/python/eager/def_function.py:954\u001b[0m, in \u001b[0;36mFunction._call\u001b[0;34m(self, *args, **kwds)\u001b[0m\n\u001b[1;32m    951\u001b[0m \u001b[38;5;28mself\u001b[39m\u001b[38;5;241m.\u001b[39m_lock\u001b[38;5;241m.\u001b[39mrelease()\n\u001b[1;32m    952\u001b[0m \u001b[38;5;66;03m# In this case we have not created variables on the first call. So we can\u001b[39;00m\n\u001b[1;32m    953\u001b[0m \u001b[38;5;66;03m# run the first trace but we should fail if variables are created.\u001b[39;00m\n\u001b[0;32m--> 954\u001b[0m results \u001b[38;5;241m=\u001b[39m \u001b[38;5;28;43mself\u001b[39;49m\u001b[38;5;241;43m.\u001b[39;49m\u001b[43m_stateful_fn\u001b[49m\u001b[43m(\u001b[49m\u001b[38;5;241;43m*\u001b[39;49m\u001b[43margs\u001b[49m\u001b[43m,\u001b[49m\u001b[43m \u001b[49m\u001b[38;5;241;43m*\u001b[39;49m\u001b[38;5;241;43m*\u001b[39;49m\u001b[43mkwds\u001b[49m\u001b[43m)\u001b[49m\n\u001b[1;32m    955\u001b[0m \u001b[38;5;28;01mif\u001b[39;00m \u001b[38;5;28mself\u001b[39m\u001b[38;5;241m.\u001b[39m_created_variables \u001b[38;5;129;01mand\u001b[39;00m \u001b[38;5;129;01mnot\u001b[39;00m ALLOW_DYNAMIC_VARIABLE_CREATION:\n\u001b[1;32m    956\u001b[0m   \u001b[38;5;28;01mraise\u001b[39;00m \u001b[38;5;167;01mValueError\u001b[39;00m(\u001b[38;5;124m\"\u001b[39m\u001b[38;5;124mCreating variables on a non-first call to a function\u001b[39m\u001b[38;5;124m\"\u001b[39m\n\u001b[1;32m    957\u001b[0m                    \u001b[38;5;124m\"\u001b[39m\u001b[38;5;124m decorated with tf.function.\u001b[39m\u001b[38;5;124m\"\u001b[39m)\n",
      "File \u001b[0;32m/opt/saturncloud/envs/saturn/lib/python3.9/site-packages/tensorflow/python/eager/function.py:2453\u001b[0m, in \u001b[0;36mFunction.__call__\u001b[0;34m(self, *args, **kwargs)\u001b[0m\n\u001b[1;32m   2450\u001b[0m \u001b[38;5;28;01mwith\u001b[39;00m \u001b[38;5;28mself\u001b[39m\u001b[38;5;241m.\u001b[39m_lock:\n\u001b[1;32m   2451\u001b[0m   (graph_function,\n\u001b[1;32m   2452\u001b[0m    filtered_flat_args) \u001b[38;5;241m=\u001b[39m \u001b[38;5;28mself\u001b[39m\u001b[38;5;241m.\u001b[39m_maybe_define_function(args, kwargs)\n\u001b[0;32m-> 2453\u001b[0m \u001b[38;5;28;01mreturn\u001b[39;00m \u001b[43mgraph_function\u001b[49m\u001b[38;5;241;43m.\u001b[39;49m\u001b[43m_call_flat\u001b[49m\u001b[43m(\u001b[49m\n\u001b[1;32m   2454\u001b[0m \u001b[43m    \u001b[49m\u001b[43mfiltered_flat_args\u001b[49m\u001b[43m,\u001b[49m\u001b[43m \u001b[49m\u001b[43mcaptured_inputs\u001b[49m\u001b[38;5;241;43m=\u001b[39;49m\u001b[43mgraph_function\u001b[49m\u001b[38;5;241;43m.\u001b[39;49m\u001b[43mcaptured_inputs\u001b[49m\u001b[43m)\u001b[49m\n",
      "File \u001b[0;32m/opt/saturncloud/envs/saturn/lib/python3.9/site-packages/tensorflow/python/eager/function.py:1860\u001b[0m, in \u001b[0;36mConcreteFunction._call_flat\u001b[0;34m(self, args, captured_inputs, cancellation_manager)\u001b[0m\n\u001b[1;32m   1856\u001b[0m possible_gradient_type \u001b[38;5;241m=\u001b[39m gradients_util\u001b[38;5;241m.\u001b[39mPossibleTapeGradientTypes(args)\n\u001b[1;32m   1857\u001b[0m \u001b[38;5;28;01mif\u001b[39;00m (possible_gradient_type \u001b[38;5;241m==\u001b[39m gradients_util\u001b[38;5;241m.\u001b[39mPOSSIBLE_GRADIENT_TYPES_NONE\n\u001b[1;32m   1858\u001b[0m     \u001b[38;5;129;01mand\u001b[39;00m executing_eagerly):\n\u001b[1;32m   1859\u001b[0m   \u001b[38;5;66;03m# No tape is watching; skip to running the function.\u001b[39;00m\n\u001b[0;32m-> 1860\u001b[0m   \u001b[38;5;28;01mreturn\u001b[39;00m \u001b[38;5;28mself\u001b[39m\u001b[38;5;241m.\u001b[39m_build_call_outputs(\u001b[38;5;28;43mself\u001b[39;49m\u001b[38;5;241;43m.\u001b[39;49m\u001b[43m_inference_function\u001b[49m\u001b[38;5;241;43m.\u001b[39;49m\u001b[43mcall\u001b[49m\u001b[43m(\u001b[49m\n\u001b[1;32m   1861\u001b[0m \u001b[43m      \u001b[49m\u001b[43mctx\u001b[49m\u001b[43m,\u001b[49m\u001b[43m \u001b[49m\u001b[43margs\u001b[49m\u001b[43m,\u001b[49m\u001b[43m \u001b[49m\u001b[43mcancellation_manager\u001b[49m\u001b[38;5;241;43m=\u001b[39;49m\u001b[43mcancellation_manager\u001b[49m\u001b[43m)\u001b[49m)\n\u001b[1;32m   1862\u001b[0m forward_backward \u001b[38;5;241m=\u001b[39m \u001b[38;5;28mself\u001b[39m\u001b[38;5;241m.\u001b[39m_select_forward_and_backward_functions(\n\u001b[1;32m   1863\u001b[0m     args,\n\u001b[1;32m   1864\u001b[0m     possible_gradient_type,\n\u001b[1;32m   1865\u001b[0m     executing_eagerly)\n\u001b[1;32m   1866\u001b[0m forward_function, args_with_tangents \u001b[38;5;241m=\u001b[39m forward_backward\u001b[38;5;241m.\u001b[39mforward()\n",
      "File \u001b[0;32m/opt/saturncloud/envs/saturn/lib/python3.9/site-packages/tensorflow/python/eager/function.py:497\u001b[0m, in \u001b[0;36m_EagerDefinedFunction.call\u001b[0;34m(self, ctx, args, cancellation_manager)\u001b[0m\n\u001b[1;32m    495\u001b[0m \u001b[38;5;28;01mwith\u001b[39;00m _InterpolateFunctionError(\u001b[38;5;28mself\u001b[39m):\n\u001b[1;32m    496\u001b[0m   \u001b[38;5;28;01mif\u001b[39;00m cancellation_manager \u001b[38;5;129;01mis\u001b[39;00m \u001b[38;5;28;01mNone\u001b[39;00m:\n\u001b[0;32m--> 497\u001b[0m     outputs \u001b[38;5;241m=\u001b[39m \u001b[43mexecute\u001b[49m\u001b[38;5;241;43m.\u001b[39;49m\u001b[43mexecute\u001b[49m\u001b[43m(\u001b[49m\n\u001b[1;32m    498\u001b[0m \u001b[43m        \u001b[49m\u001b[38;5;28;43mstr\u001b[39;49m\u001b[43m(\u001b[49m\u001b[38;5;28;43mself\u001b[39;49m\u001b[38;5;241;43m.\u001b[39;49m\u001b[43msignature\u001b[49m\u001b[38;5;241;43m.\u001b[39;49m\u001b[43mname\u001b[49m\u001b[43m)\u001b[49m\u001b[43m,\u001b[49m\n\u001b[1;32m    499\u001b[0m \u001b[43m        \u001b[49m\u001b[43mnum_outputs\u001b[49m\u001b[38;5;241;43m=\u001b[39;49m\u001b[38;5;28;43mself\u001b[39;49m\u001b[38;5;241;43m.\u001b[39;49m\u001b[43m_num_outputs\u001b[49m\u001b[43m,\u001b[49m\n\u001b[1;32m    500\u001b[0m \u001b[43m        \u001b[49m\u001b[43minputs\u001b[49m\u001b[38;5;241;43m=\u001b[39;49m\u001b[43margs\u001b[49m\u001b[43m,\u001b[49m\n\u001b[1;32m    501\u001b[0m \u001b[43m        \u001b[49m\u001b[43mattrs\u001b[49m\u001b[38;5;241;43m=\u001b[39;49m\u001b[43mattrs\u001b[49m\u001b[43m,\u001b[49m\n\u001b[1;32m    502\u001b[0m \u001b[43m        \u001b[49m\u001b[43mctx\u001b[49m\u001b[38;5;241;43m=\u001b[39;49m\u001b[43mctx\u001b[49m\u001b[43m)\u001b[49m\n\u001b[1;32m    503\u001b[0m   \u001b[38;5;28;01melse\u001b[39;00m:\n\u001b[1;32m    504\u001b[0m     outputs \u001b[38;5;241m=\u001b[39m execute\u001b[38;5;241m.\u001b[39mexecute_with_cancellation(\n\u001b[1;32m    505\u001b[0m         \u001b[38;5;28mstr\u001b[39m(\u001b[38;5;28mself\u001b[39m\u001b[38;5;241m.\u001b[39msignature\u001b[38;5;241m.\u001b[39mname),\n\u001b[1;32m    506\u001b[0m         num_outputs\u001b[38;5;241m=\u001b[39m\u001b[38;5;28mself\u001b[39m\u001b[38;5;241m.\u001b[39m_num_outputs,\n\u001b[0;32m   (...)\u001b[0m\n\u001b[1;32m    509\u001b[0m         ctx\u001b[38;5;241m=\u001b[39mctx,\n\u001b[1;32m    510\u001b[0m         cancellation_manager\u001b[38;5;241m=\u001b[39mcancellation_manager)\n",
      "File \u001b[0;32m/opt/saturncloud/envs/saturn/lib/python3.9/site-packages/tensorflow/python/eager/execute.py:54\u001b[0m, in \u001b[0;36mquick_execute\u001b[0;34m(op_name, num_outputs, inputs, attrs, ctx, name)\u001b[0m\n\u001b[1;32m     52\u001b[0m \u001b[38;5;28;01mtry\u001b[39;00m:\n\u001b[1;32m     53\u001b[0m   ctx\u001b[38;5;241m.\u001b[39mensure_initialized()\n\u001b[0;32m---> 54\u001b[0m   tensors \u001b[38;5;241m=\u001b[39m \u001b[43mpywrap_tfe\u001b[49m\u001b[38;5;241;43m.\u001b[39;49m\u001b[43mTFE_Py_Execute\u001b[49m\u001b[43m(\u001b[49m\u001b[43mctx\u001b[49m\u001b[38;5;241;43m.\u001b[39;49m\u001b[43m_handle\u001b[49m\u001b[43m,\u001b[49m\u001b[43m \u001b[49m\u001b[43mdevice_name\u001b[49m\u001b[43m,\u001b[49m\u001b[43m \u001b[49m\u001b[43mop_name\u001b[49m\u001b[43m,\u001b[49m\n\u001b[1;32m     55\u001b[0m \u001b[43m                                      \u001b[49m\u001b[43minputs\u001b[49m\u001b[43m,\u001b[49m\u001b[43m \u001b[49m\u001b[43mattrs\u001b[49m\u001b[43m,\u001b[49m\u001b[43m \u001b[49m\u001b[43mnum_outputs\u001b[49m\u001b[43m)\u001b[49m\n\u001b[1;32m     56\u001b[0m \u001b[38;5;28;01mexcept\u001b[39;00m core\u001b[38;5;241m.\u001b[39m_NotOkStatusException \u001b[38;5;28;01mas\u001b[39;00m e:\n\u001b[1;32m     57\u001b[0m   \u001b[38;5;28;01mif\u001b[39;00m name \u001b[38;5;129;01mis\u001b[39;00m \u001b[38;5;129;01mnot\u001b[39;00m \u001b[38;5;28;01mNone\u001b[39;00m:\n",
      "\u001b[0;31mKeyboardInterrupt\u001b[0m: "
     ]
    }
   ],
   "source": [
    "learning_rate = 0.01\n",
    "size_inner = 1000\n",
    "dropout_rate= 0.8\n",
    "input_size = 299\n",
    "\n",
    "\n",
    "model = make_model(learning_rate = learning_rate,\n",
    "                   size_inner = size_inner,\n",
    "                   dropout_rate= dropout_rate,\n",
    "                  input_size = input_size)\n",
    "    \n",
    "    \n",
    "history = model.fit(train_ds, \n",
    "              epochs=50, \n",
    "              validation_data = test_ds,\n",
    "                   callbacks = [checkpoint])\n",
    "    "
   ]
  },
  {
   "cell_type": "code",
   "execution_count": null,
   "id": "49c0ee82-52ba-48a5-9324-801a4b1fb209",
   "metadata": {},
   "outputs": [],
   "source": [
    "# using model"
   ]
  },
  {
   "cell_type": "code",
   "execution_count": 70,
   "id": "2a1fae74-02f6-453c-899a-0432a5fe108e",
   "metadata": {
    "execution": {
     "iopub.execute_input": "2023-11-19T12:19:23.843549Z",
     "iopub.status.busy": "2023-11-19T12:19:23.843167Z",
     "iopub.status.idle": "2023-11-19T12:19:23.847637Z",
     "shell.execute_reply": "2023-11-19T12:19:23.846832Z",
     "shell.execute_reply.started": "2023-11-19T12:19:23.843525Z"
    },
    "tags": []
   },
   "outputs": [],
   "source": [
    "import tensorflow as tf\n",
    "from tensorflow import keras\n",
    "from tensorflow.keras.preprocessing.image import ImageDataGenerator\n",
    "from tensorflow.keras.preprocessing.image import load_img\n",
    "from tensorflow.keras.applications.xception import preprocess_input\n",
    "\n"
   ]
  },
  {
   "cell_type": "code",
   "execution_count": 67,
   "id": "daa5ee50-93d1-4184-b3d0-3ea6bdb358b8",
   "metadata": {
    "execution": {
     "iopub.execute_input": "2023-11-19T12:16:06.294307Z",
     "iopub.status.busy": "2023-11-19T12:16:06.293924Z",
     "iopub.status.idle": "2023-11-19T12:16:07.600003Z",
     "shell.execute_reply": "2023-11-19T12:16:07.599372Z",
     "shell.execute_reply.started": "2023-11-19T12:16:06.294283Z"
    },
    "tags": []
   },
   "outputs": [],
   "source": [
    "model = keras.models.load_model('xception_v4_03_0.954.h5')\n",
    "                       \n",
    "                       \n",
    "                       "
   ]
  },
  {
   "cell_type": "code",
   "execution_count": 68,
   "id": "dfcdf990-e373-4583-bc25-cf4865397152",
   "metadata": {
    "execution": {
     "iopub.execute_input": "2023-11-19T12:16:19.640967Z",
     "iopub.status.busy": "2023-11-19T12:16:19.640593Z",
     "iopub.status.idle": "2023-11-19T12:16:19.680390Z",
     "shell.execute_reply": "2023-11-19T12:16:19.679480Z",
     "shell.execute_reply.started": "2023-11-19T12:16:19.640943Z"
    }
   },
   "outputs": [
    {
     "name": "stdout",
     "output_type": "stream",
     "text": [
      "Found 918 images belonging to 2 classes.\n"
     ]
    }
   ],
   "source": [
    "test_get = ImageDataGenerator(preprocessing_function = preprocess_input )\n",
    "\n",
    "test_ds = train_get.flow_from_directory('./data/test/',\n",
    "                              target_size = (input_size,input_size),\n",
    "                              batch_size = 32, shuffle = False)"
   ]
  },
  {
   "cell_type": "code",
   "execution_count": 69,
   "id": "a733bc70-e39d-4c3c-8162-744aa9f63bfe",
   "metadata": {
    "execution": {
     "iopub.execute_input": "2023-11-19T12:16:42.825368Z",
     "iopub.status.busy": "2023-11-19T12:16:42.824997Z",
     "iopub.status.idle": "2023-11-19T12:16:49.819711Z",
     "shell.execute_reply": "2023-11-19T12:16:49.819088Z",
     "shell.execute_reply.started": "2023-11-19T12:16:42.825343Z"
    }
   },
   "outputs": [
    {
     "name": "stdout",
     "output_type": "stream",
     "text": [
      "29/29 [==============================] - 7s 210ms/step - loss: 0.1424 - accuracy: 0.9542\n"
     ]
    },
    {
     "data": {
      "text/plain": [
       "[0.1424315869808197, 0.9542483687400818]"
      ]
     },
     "execution_count": 69,
     "metadata": {},
     "output_type": "execute_result"
    }
   ],
   "source": [
    "model.evaluate(test_ds)"
   ]
  },
  {
   "cell_type": "code",
   "execution_count": 73,
   "id": "586176df-d39e-473d-898d-6935fed0a9d8",
   "metadata": {
    "execution": {
     "iopub.execute_input": "2023-11-19T12:20:23.121489Z",
     "iopub.status.busy": "2023-11-19T12:20:23.121112Z",
     "iopub.status.idle": "2023-11-19T12:20:23.155580Z",
     "shell.execute_reply": "2023-11-19T12:20:23.154859Z",
     "shell.execute_reply.started": "2023-11-19T12:20:23.121465Z"
    },
    "tags": []
   },
   "outputs": [
    {
     "data": {
      "image/png": "[encoded data removed]",
      "text/plain": [
       "<PIL.Image.Image image mode=RGB size=299x299>"
      ]
     },
     "execution_count": 73,
     "metadata": {},
     "output_type": "execute_result"
    }
   ],
   "source": [
    "path = './data/test/wasp/'\n",
    "name = '20637300636_d3b5b6524b_n.jpg'\n",
    "fullname = f'{path}/{name}'\n",
    "\n",
    "\n",
    "img = load_img(fullname, target_size = (299,299))\n",
    "img\n",
    "\n"
   ]
  },
  {
   "cell_type": "code",
   "execution_count": 74,
   "id": "12b5a21e-2f9c-4f68-9d08-20928d4f9a31",
   "metadata": {
    "execution": {
     "iopub.execute_input": "2023-11-19T12:21:34.800020Z",
     "iopub.status.busy": "2023-11-19T12:21:34.799648Z",
     "iopub.status.idle": "2023-11-19T12:21:34.804071Z",
     "shell.execute_reply": "2023-11-19T12:21:34.803332Z",
     "shell.execute_reply.started": "2023-11-19T12:21:34.799995Z"
    }
   },
   "outputs": [],
   "source": [
    "x = np.array(img)\n",
    "X = np.array([x])"
   ]
  },
  {
   "cell_type": "code",
   "execution_count": 77,
   "id": "39552fc4-37c1-4dcc-b93c-fd7ed215bced",
   "metadata": {
    "execution": {
     "iopub.execute_input": "2023-11-19T12:22:11.665530Z",
     "iopub.status.busy": "2023-11-19T12:22:11.664726Z",
     "iopub.status.idle": "2023-11-19T12:22:11.670145Z",
     "shell.execute_reply": "2023-11-19T12:22:11.669392Z",
     "shell.execute_reply.started": "2023-11-19T12:22:11.665490Z"
    },
    "tags": []
   },
   "outputs": [],
   "source": [
    "X = preprocess_input(X)"
   ]
  },
  {
   "cell_type": "code",
   "execution_count": 78,
   "id": "3a6cf084-2bd5-4db2-8be0-144d958acb4c",
   "metadata": {
    "execution": {
     "iopub.execute_input": "2023-11-19T12:22:45.643421Z",
     "iopub.status.busy": "2023-11-19T12:22:45.643031Z",
     "iopub.status.idle": "2023-11-19T12:22:46.297738Z",
     "shell.execute_reply": "2023-11-19T12:22:46.297103Z",
     "shell.execute_reply.started": "2023-11-19T12:22:45.643394Z"
    }
   },
   "outputs": [
    {
     "name": "stdout",
     "output_type": "stream",
     "text": [
      "1/1 [==============================] - 1s 623ms/step\n"
     ]
    }
   ],
   "source": [
    "pred = model.predict(X)"
   ]
  },
  {
   "cell_type": "code",
   "execution_count": 81,
   "id": "3baddfa9-8f90-4984-87be-cafdc96fdeb8",
   "metadata": {
    "execution": {
     "iopub.execute_input": "2023-11-19T12:24:52.414120Z",
     "iopub.status.busy": "2023-11-19T12:24:52.413732Z",
     "iopub.status.idle": "2023-11-19T12:24:52.418956Z",
     "shell.execute_reply": "2023-11-19T12:24:52.418203Z",
     "shell.execute_reply.started": "2023-11-19T12:24:52.414098Z"
    }
   },
   "outputs": [
    {
     "data": {
      "text/plain": [
       "{'bee': 0, 'wasp': 1}"
      ]
     },
     "execution_count": 81,
     "metadata": {},
     "output_type": "execute_result"
    }
   ],
   "source": [
    "train_ds.class_indices\n"
   ]
  },
  {
   "cell_type": "code",
   "execution_count": 82,
   "id": "7e2ce7a4-d06c-403d-a9a3-773739d2311d",
   "metadata": {
    "execution": {
     "iopub.execute_input": "2023-11-19T12:24:52.915798Z",
     "iopub.status.busy": "2023-11-19T12:24:52.915418Z",
     "iopub.status.idle": "2023-11-19T12:24:52.919149Z",
     "shell.execute_reply": "2023-11-19T12:24:52.918499Z",
     "shell.execute_reply.started": "2023-11-19T12:24:52.915775Z"
    }
   },
   "outputs": [],
   "source": [
    "classes = ['bee', 'wasp']"
   ]
  },
  {
   "cell_type": "code",
   "execution_count": 83,
   "id": "5e1f6115-4d2b-4d1d-a14a-b7a0a98fef65",
   "metadata": {
    "execution": {
     "iopub.execute_input": "2023-11-19T12:24:53.681070Z",
     "iopub.status.busy": "2023-11-19T12:24:53.680659Z",
     "iopub.status.idle": "2023-11-19T12:24:53.685836Z",
     "shell.execute_reply": "2023-11-19T12:24:53.685104Z",
     "shell.execute_reply.started": "2023-11-19T12:24:53.681047Z"
    },
    "tags": []
   },
   "outputs": [
    {
     "data": {
      "text/plain": [
       "{'bee': 0.07360528, 'wasp': 0.9263947}"
      ]
     },
     "execution_count": 83,
     "metadata": {},
     "output_type": "execute_result"
    }
   ],
   "source": [
    "dict(zip(classes, pred[0]))"
   ]
  },
  {
   "cell_type": "code",
   "execution_count": null,
   "id": "b7594024-4370-4fda-8ed1-33fce333a6e0",
   "metadata": {},
   "outputs": [],
   "source": [
    "#summary"
   ]
  }
 ],
 "metadata": {
  "kernelspec": {
   "display_name": "saturn (Python 3)",
   "language": "python",
   "name": "python3"
  },
  "language_info": {
   "codemirror_mode": {
    "name": "ipython",
    "version": 3
   },
   "file_extension": ".py",
   "mimetype": "text/x-python",
   "name": "python",
   "nbconvert_exporter": "python",
   "pygments_lexer": "ipython3",
   "version": "3.9.13"
  }
 },
 "nbformat": 4,
 "nbformat_minor": 5
}
